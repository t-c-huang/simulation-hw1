{
 "cells": [
  {
   "cell_type": "code",
   "execution_count": 161,
   "metadata": {},
   "outputs": [],
   "source": [
    "from dataclasses import dataclass\n",
    "\n",
    "import logging\n",
    "logging.basicConfig(level=logging.INFO)\n",
    "logger = logging.getLogger(__name__)\n",
    "\n",
    "@dataclass\n",
    "class Entity:\n",
    "    id: int\n",
    "    arrival_time: float\n",
    "    interarrival_time: float\n",
    "    service_time: float\n",
    "\n",
    "    def __repr__(self):\n",
    "        return f\"Entity(\\\n",
    "id={self.id}, \\\n",
    "arrival_time={self.arrival_time}, \\\n",
    "interarrival_time={self.interarrival_time}, \\\n",
    "service_time={self.service_time})\"\n",
    "\n",
    "@dataclass\n",
    "class SimulationRecord:\n",
    "    # entity: Entity\n",
    "    # arrival_time: float\n",
    "    # interarrival_time: float\n",
    "    # service_time: float\n",
    "    # departure_time: float\n",
    "    # time_in_system: float\n",
    "    # time_in_queue: float\n",
    "\n",
    "    # def __repr__(self):\n",
    "    #     return f\"SimulationRecord(\\\n",
    "    pass\n",
    "\n",
    "class FIFO_queue:\n",
    "    def __init__(self, q_type, entity_list=None):\n",
    "        self.q_type = q_type\n",
    "        if entity_list:\n",
    "            self.queue = entity_list\n",
    "        else:\n",
    "            self.queue = []\n",
    "    def add(self, entity):\n",
    "        logger.info(f\"[{self.q_type} queue]: ADD {entity}\")\n",
    "        self.queue.insert(0, entity)\n",
    "    def pop(self):\n",
    "        pop_entity = self.queue.pop()\n",
    "        logger.info(f\"[{self.q_type} queue]: POP {pop_entity}\")\n",
    "        return pop_entity\n",
    "    def __repr__(self):\n",
    "        return f\"FIFO_queue({self.queue})\"\n",
    "\n",
    "class Server:\n",
    "    def __init__(self):\n",
    "        self.is_busy = False\n",
    "        # self.busy_until = 0\n",
    "        self.entity = None\n",
    "    # def is_free(self, time):\n",
    "    #     return not self.is_busy or self.busy_until <= time\n",
    "    # def serve(self, entity, time):\n",
    "    #     self.is_busy = True\n",
    "    #     self.busy_until = time + entity.service_time\n",
    "    #     self.entity = entity\n",
    "    # def free(self, time):\n",
    "    #     self.is_busy = False\n",
    "    #     self.busy_until = 0\n",
    "    #     self.entity = None\n",
    "    def __repr__(self):\n",
    "        return f\"Server({self.entity})\""
   ]
  },
  {
   "cell_type": "code",
   "execution_count": 162,
   "metadata": {},
   "outputs": [],
   "source": [
    "@dataclass\n",
    "class Status:\n",
    "    clock: int\n",
    "\n",
    "    server: Server\n",
    "    arriving_queue: FIFO_queue\n",
    "    waiting_queue: FIFO_queue\n",
    "    finished_queue: FIFO_queue\n",
    "\n",
    "    B_t: list\n",
    "    Q_t: list\n",
    "    num_completed_waiting: int\n",
    "    total_waiting_time_in_queue: list\n",
    "    \n",
    "    # area_under_Q_t: int\n",
    "    # area_under_B_t: int\n",
    "\n",
    "    unit_in_second: float\n",
    "    second_pre_unit: int\n",
    "\n",
    "\n",
    "    def check_Q_t(self):\n",
    "        self.Q_t.append((self.clock, len(self.waiting_queue.queue)))\n",
    "        # self.area_under_Q_t += len(self.waiting_queue.queue) * int(self.unit_in_second * self.second_pre_unit)\n",
    "\n",
    "    def check_arrival(self):\n",
    "        if self.arriving_queue.queue:\n",
    "            len_arriving_queue = len(self.arriving_queue.queue)\n",
    "            # logger.debug(f\"check_arrival: {self.clock}, len of arriving_queue: {len_arriving_queue}\")\n",
    "            if self.clock == self.arriving_queue.queue[-1].arrival_time:\n",
    "                logger.info(f\"[new_arrival]: clock {self.clock}\")\n",
    "                entity = self.arriving_queue.pop()\n",
    "                self.waiting_queue.add(entity)\n",
    "\n",
    "    \n",
    "    def check_service(self):\n",
    "        # logger.debug(f\"check_service: {self.clock}, server: {self.server}\")\n",
    "        if self.server.entity != None:\n",
    "            self.server.entity.service_time -= int(self.unit_in_second * self.second_pre_unit)\n",
    "            if self.server.entity.service_time == 0: #! Check this\n",
    "                self.finished_queue.add(self.server.entity)\n",
    "                logger.info(f\"[server]: FINISH {self.server.entity}, clock {self.clock}\")\n",
    "                self.server.entity = None\n",
    "                # logger.info(f\"server: SERVE {self.server.entity}\")\n",
    "        if self.server.entity == None:\n",
    "            if len(self.waiting_queue.queue) > 0:\n",
    "                entity = self.waiting_queue.pop()\n",
    "                self.num_completed_waiting += 1\n",
    "                self.server.entity = entity\n",
    "                #! self.server.entity.service_time -= int(self.unit_in_second * self.second_pre_unit)\n",
    "                #! self.total_waiting_time_in_queue += self.clock - entity.arrival_time\n",
    "                if len(self.total_waiting_time_in_queue) > 0:\n",
    "                    self.total_waiting_time_in_queue.append((self.clock, self.clock - entity.arrival_time + self.total_waiting_time_in_queue[-1][1])) #! Check this\n",
    "                else:\n",
    "                    self.total_waiting_time_in_queue.append((self.clock, self.clock - entity.arrival_time))\n",
    "                logger.info(f\"[server]: ADD {self.server.entity}, clock {self.clock}\")\n",
    "        \n",
    "        server_status = 1 if self.server.entity else 0\n",
    "        self.B_t.append((self.clock, server_status))\n",
    "    \n",
    "    def process(self):\n",
    "        self.check_arrival()\n",
    "        self.check_service()\n",
    "        self.check_Q_t()\n",
    "    \n",
    "    def average_waiting_time_in_queue(self):\n",
    "        return (self.total_waiting_time_in_queue[-1][1] / self.num_completed_waiting) * self.unit_in_second\n",
    "\n",
    "    def time_average_number_in_queue(self):\n",
    "        area_under_Q_t = sum([i[1] for i in self.Q_t[:-1]]) \n",
    "        print(f\"area under Q_t: {area_under_Q_t}\")\n",
    "        return area_under_Q_t / (len(self.Q_t[:-1])) #! Check this\n",
    "\n",
    "    def utilization(self):\n",
    "        area_under_B_t = sum([i[1] for i in self.B_t[:-1]])\n",
    "        print(f\"area under B_t: {area_under_B_t}\")\n",
    "        return area_under_B_t / (len(self.B_t[:-1])) #1 Check this\n",
    "        \n",
    "    def __repr__(self):\n",
    "        return f\"===========\\n\\\n",
    "clock: {self.clock}\\n\\n\\\n",
    "server: {self.server}\\n\\n\\\n",
    "arriving_queue: {self.arriving_queue}\\n\\n\\\n",
    "waiting_queue: {self.waiting_queue}\\n\\n\\\n",
    "finished_queue: {self.finished_queue}\\n\\n\\\n",
    "num_completed_waiting: {self.num_completed_waiting}\\n\\n\\\n",
    "total_waiting_time_in_queue: {self.total_waiting_time_in_queue}\\n\\\n",
    "===========\\n\"\n",
    "# B_t: {self.B_t}, Q_t: {self.Q_t}, \n",
    "    # def __repr__(self):\n",
    "    #     return f\"Status(\\\n",
    "# area_under_Q_t: {self.area_under_Q_t}, area_under_B_t: {self.area_under_B_t}\\n\\n\\"
   ]
  },
  {
   "cell_type": "code",
   "execution_count": null,
   "metadata": {},
   "outputs": [],
   "source": []
  },
  {
   "cell_type": "code",
   "execution_count": 163,
   "metadata": {},
   "outputs": [],
   "source": [
    "arrival_time_list = [0, 173, 308, 379, 441, 1869, 1939, 3491, 3806, 3982]\n",
    "interarrival_time_list = [173, 135, 71, 62, 1428, 70, 1552, 315, 176, 1]\n",
    "service_time = [290, 176, 339, 452, 446, 436, 207, 336, 237, 538]\n",
    "\n",
    "# arrival_time_list = [int(i*100) for i in arrival_time_list]\n",
    "# interarrival_time_list = [int(i*100) for i in interarrival_time_list]\n",
    "# service_time = [int(i*100) for i in service_time]\n",
    "\n",
    "entity_list = [Entity(i + 1, arrival_time, interarrival_time, service_time) for i, (arrival_time, interarrival_time, service_time) in enumerate(zip(arrival_time_list, interarrival_time_list, service_time))]\n",
    "entity_list.reverse()"
   ]
  },
  {
   "cell_type": "code",
   "execution_count": 164,
   "metadata": {},
   "outputs": [],
   "source": [
    "system_status = Status(\n",
    "    clock = int(0.00*100),\n",
    "    server = Server(),\n",
    "    arriving_queue = FIFO_queue(\"arring\", entity_list.copy()),\n",
    "    waiting_queue = FIFO_queue(\"waiting\", None),\n",
    "    finished_queue = FIFO_queue(\"finished\", None),\n",
    "    num_completed_waiting = 0,\n",
    "    B_t = [], # Server status (time, status)\n",
    "    Q_t = [], # Queue status (time, num_in_queue)\n",
    "    total_waiting_time_in_queue = [],\n",
    "    unit_in_second = 0.01,\n",
    "    second_pre_unit = 100,\n",
    ")\n",
    "simulation_records = []"
   ]
  },
  {
   "cell_type": "code",
   "execution_count": 165,
   "metadata": {},
   "outputs": [
    {
     "data": {
      "text/plain": [
       "===========\n",
       "clock: 0\n",
       "\n",
       "server: Server(None)\n",
       "\n",
       "arriving_queue: FIFO_queue([Entity(id=10, arrival_time=3982, interarrival_time=1, service_time=538), Entity(id=9, arrival_time=3806, interarrival_time=176, service_time=237), Entity(id=8, arrival_time=3491, interarrival_time=315, service_time=336), Entity(id=7, arrival_time=1939, interarrival_time=1552, service_time=207), Entity(id=6, arrival_time=1869, interarrival_time=70, service_time=436), Entity(id=5, arrival_time=441, interarrival_time=1428, service_time=446), Entity(id=4, arrival_time=379, interarrival_time=62, service_time=452), Entity(id=3, arrival_time=308, interarrival_time=71, service_time=339), Entity(id=2, arrival_time=173, interarrival_time=135, service_time=176), Entity(id=1, arrival_time=0, interarrival_time=173, service_time=290)])\n",
       "\n",
       "waiting_queue: FIFO_queue([])\n",
       "\n",
       "finished_queue: FIFO_queue([])\n",
       "\n",
       "num_completed_waiting: 0\n",
       "\n",
       "total_waiting_time_in_queue: []\n",
       "==========="
      ]
     },
     "execution_count": 165,
     "metadata": {},
     "output_type": "execute_result"
    }
   ],
   "source": [
    "system_status"
   ]
  },
  {
   "cell_type": "code",
   "execution_count": 166,
   "metadata": {},
   "outputs": [
    {
     "name": "stderr",
     "output_type": "stream",
     "text": [
      "INFO:__main__:[new_arrival]: clock 0\n",
      "INFO:__main__:[arring queue]: POP Entity(id=1, arrival_time=0, interarrival_time=173, service_time=290)\n",
      "INFO:__main__:[waiting queue]: ADD Entity(id=1, arrival_time=0, interarrival_time=173, service_time=290)\n",
      "INFO:__main__:[waiting queue]: POP Entity(id=1, arrival_time=0, interarrival_time=173, service_time=290)\n",
      "INFO:__main__:[server]: ADD Entity(id=1, arrival_time=0, interarrival_time=173, service_time=290), clock 0\n",
      "INFO:__main__:[new_arrival]: clock 173\n",
      "INFO:__main__:[arring queue]: POP Entity(id=2, arrival_time=173, interarrival_time=135, service_time=176)\n",
      "INFO:__main__:[waiting queue]: ADD Entity(id=2, arrival_time=173, interarrival_time=135, service_time=176)\n"
     ]
    },
    {
     "name": "stdout",
     "output_type": "stream",
     "text": [
      "===========\n",
      "clock: 173\n",
      "\n",
      "server: Server(Entity(id=1, arrival_time=0, interarrival_time=173, service_time=117))\n",
      "\n",
      "arriving_queue: FIFO_queue([Entity(id=10, arrival_time=3982, interarrival_time=1, service_time=538), Entity(id=9, arrival_time=3806, interarrival_time=176, service_time=237), Entity(id=8, arrival_time=3491, interarrival_time=315, service_time=336), Entity(id=7, arrival_time=1939, interarrival_time=1552, service_time=207), Entity(id=6, arrival_time=1869, interarrival_time=70, service_time=436), Entity(id=5, arrival_time=441, interarrival_time=1428, service_time=446), Entity(id=4, arrival_time=379, interarrival_time=62, service_time=452), Entity(id=3, arrival_time=308, interarrival_time=71, service_time=339)])\n",
      "\n",
      "waiting_queue: FIFO_queue([Entity(id=2, arrival_time=173, interarrival_time=135, service_time=176)])\n",
      "\n",
      "finished_queue: FIFO_queue([])\n",
      "\n",
      "num_completed_waiting: 1\n",
      "\n",
      "total_waiting_time_in_queue: [(0, 0)]\n",
      "===========\n",
      "\n"
     ]
    }
   ],
   "source": [
    "while system_status.clock <= int(1.73*100):\n",
    "   system_status.process()\n",
    "   if system_status.clock == int(1.73*100):\n",
    "      print(system_status)\n",
    "   system_status.clock += int(system_status.unit_in_second * system_status.second_pre_unit)"
   ]
  },
  {
   "cell_type": "code",
   "execution_count": 167,
   "metadata": {},
   "outputs": [
    {
     "name": "stderr",
     "output_type": "stream",
     "text": [
      "INFO:__main__:[finished queue]: ADD Entity(id=1, arrival_time=0, interarrival_time=173, service_time=0)\n",
      "INFO:__main__:[server]: FINISH Entity(id=1, arrival_time=0, interarrival_time=173, service_time=0), clock 290\n",
      "INFO:__main__:[waiting queue]: POP Entity(id=2, arrival_time=173, interarrival_time=135, service_time=176)\n",
      "INFO:__main__:[server]: ADD Entity(id=2, arrival_time=173, interarrival_time=135, service_time=176), clock 290\n"
     ]
    },
    {
     "name": "stdout",
     "output_type": "stream",
     "text": [
      "===========\n",
      "clock: 290\n",
      "\n",
      "server: Server(Entity(id=2, arrival_time=173, interarrival_time=135, service_time=176))\n",
      "\n",
      "arriving_queue: FIFO_queue([Entity(id=10, arrival_time=3982, interarrival_time=1, service_time=538), Entity(id=9, arrival_time=3806, interarrival_time=176, service_time=237), Entity(id=8, arrival_time=3491, interarrival_time=315, service_time=336), Entity(id=7, arrival_time=1939, interarrival_time=1552, service_time=207), Entity(id=6, arrival_time=1869, interarrival_time=70, service_time=436), Entity(id=5, arrival_time=441, interarrival_time=1428, service_time=446), Entity(id=4, arrival_time=379, interarrival_time=62, service_time=452), Entity(id=3, arrival_time=308, interarrival_time=71, service_time=339)])\n",
      "\n",
      "waiting_queue: FIFO_queue([])\n",
      "\n",
      "finished_queue: FIFO_queue([Entity(id=1, arrival_time=0, interarrival_time=173, service_time=0)])\n",
      "\n",
      "num_completed_waiting: 2\n",
      "\n",
      "total_waiting_time_in_queue: [(0, 0), (290, 117)]\n",
      "===========\n",
      "\n"
     ]
    }
   ],
   "source": [
    "while system_status.clock <= int(2.90*100):\n",
    "   system_status.process() \n",
    "   if system_status.clock == int(2.90*100):\n",
    "      print(system_status)\n",
    "   system_status.clock += int(system_status.unit_in_second * system_status.second_pre_unit)"
   ]
  },
  {
   "cell_type": "code",
   "execution_count": 168,
   "metadata": {},
   "outputs": [
    {
     "name": "stderr",
     "output_type": "stream",
     "text": [
      "INFO:__main__:[new_arrival]: clock 308\n",
      "INFO:__main__:[arring queue]: POP Entity(id=3, arrival_time=308, interarrival_time=71, service_time=339)\n",
      "INFO:__main__:[waiting queue]: ADD Entity(id=3, arrival_time=308, interarrival_time=71, service_time=339)\n"
     ]
    },
    {
     "name": "stdout",
     "output_type": "stream",
     "text": [
      "===========\n",
      "clock: 308\n",
      "\n",
      "server: Server(Entity(id=2, arrival_time=173, interarrival_time=135, service_time=158))\n",
      "\n",
      "arriving_queue: FIFO_queue([Entity(id=10, arrival_time=3982, interarrival_time=1, service_time=538), Entity(id=9, arrival_time=3806, interarrival_time=176, service_time=237), Entity(id=8, arrival_time=3491, interarrival_time=315, service_time=336), Entity(id=7, arrival_time=1939, interarrival_time=1552, service_time=207), Entity(id=6, arrival_time=1869, interarrival_time=70, service_time=436), Entity(id=5, arrival_time=441, interarrival_time=1428, service_time=446), Entity(id=4, arrival_time=379, interarrival_time=62, service_time=452)])\n",
      "\n",
      "waiting_queue: FIFO_queue([Entity(id=3, arrival_time=308, interarrival_time=71, service_time=339)])\n",
      "\n",
      "finished_queue: FIFO_queue([Entity(id=1, arrival_time=0, interarrival_time=173, service_time=0)])\n",
      "\n",
      "num_completed_waiting: 2\n",
      "\n",
      "total_waiting_time_in_queue: [(0, 0), (290, 117)]\n",
      "===========\n",
      "\n"
     ]
    }
   ],
   "source": [
    "while system_status.clock <= int(3.08*100):\n",
    "   system_status.process() \n",
    "   if system_status.clock == int(3.08*100):\n",
    "      print(system_status)\n",
    "   system_status.clock += int(system_status.unit_in_second * system_status.second_pre_unit)"
   ]
  },
  {
   "cell_type": "code",
   "execution_count": 169,
   "metadata": {},
   "outputs": [
    {
     "name": "stderr",
     "output_type": "stream",
     "text": [
      "INFO:__main__:[new_arrival]: clock 379\n",
      "INFO:__main__:[arring queue]: POP Entity(id=4, arrival_time=379, interarrival_time=62, service_time=452)\n",
      "INFO:__main__:[waiting queue]: ADD Entity(id=4, arrival_time=379, interarrival_time=62, service_time=452)\n"
     ]
    },
    {
     "name": "stdout",
     "output_type": "stream",
     "text": [
      "===========\n",
      "clock: 379\n",
      "\n",
      "server: Server(Entity(id=2, arrival_time=173, interarrival_time=135, service_time=87))\n",
      "\n",
      "arriving_queue: FIFO_queue([Entity(id=10, arrival_time=3982, interarrival_time=1, service_time=538), Entity(id=9, arrival_time=3806, interarrival_time=176, service_time=237), Entity(id=8, arrival_time=3491, interarrival_time=315, service_time=336), Entity(id=7, arrival_time=1939, interarrival_time=1552, service_time=207), Entity(id=6, arrival_time=1869, interarrival_time=70, service_time=436), Entity(id=5, arrival_time=441, interarrival_time=1428, service_time=446)])\n",
      "\n",
      "waiting_queue: FIFO_queue([Entity(id=4, arrival_time=379, interarrival_time=62, service_time=452), Entity(id=3, arrival_time=308, interarrival_time=71, service_time=339)])\n",
      "\n",
      "finished_queue: FIFO_queue([Entity(id=1, arrival_time=0, interarrival_time=173, service_time=0)])\n",
      "\n",
      "num_completed_waiting: 2\n",
      "\n",
      "total_waiting_time_in_queue: [(0, 0), (290, 117)]\n",
      "===========\n",
      "\n"
     ]
    }
   ],
   "source": [
    "while system_status.clock <= int(3.79*100):\n",
    "   system_status.process() \n",
    "   if system_status.clock == int(3.79*100):\n",
    "      print(system_status)\n",
    "   system_status.clock += int(system_status.unit_in_second * system_status.second_pre_unit)"
   ]
  },
  {
   "cell_type": "code",
   "execution_count": 170,
   "metadata": {},
   "outputs": [
    {
     "name": "stderr",
     "output_type": "stream",
     "text": [
      "INFO:__main__:[new_arrival]: clock 441\n",
      "INFO:__main__:[arring queue]: POP Entity(id=5, arrival_time=441, interarrival_time=1428, service_time=446)\n",
      "INFO:__main__:[waiting queue]: ADD Entity(id=5, arrival_time=441, interarrival_time=1428, service_time=446)\n"
     ]
    },
    {
     "name": "stdout",
     "output_type": "stream",
     "text": [
      "===========\n",
      "clock: 441\n",
      "\n",
      "server: Server(Entity(id=2, arrival_time=173, interarrival_time=135, service_time=25))\n",
      "\n",
      "arriving_queue: FIFO_queue([Entity(id=10, arrival_time=3982, interarrival_time=1, service_time=538), Entity(id=9, arrival_time=3806, interarrival_time=176, service_time=237), Entity(id=8, arrival_time=3491, interarrival_time=315, service_time=336), Entity(id=7, arrival_time=1939, interarrival_time=1552, service_time=207), Entity(id=6, arrival_time=1869, interarrival_time=70, service_time=436)])\n",
      "\n",
      "waiting_queue: FIFO_queue([Entity(id=5, arrival_time=441, interarrival_time=1428, service_time=446), Entity(id=4, arrival_time=379, interarrival_time=62, service_time=452), Entity(id=3, arrival_time=308, interarrival_time=71, service_time=339)])\n",
      "\n",
      "finished_queue: FIFO_queue([Entity(id=1, arrival_time=0, interarrival_time=173, service_time=0)])\n",
      "\n",
      "num_completed_waiting: 2\n",
      "\n",
      "total_waiting_time_in_queue: [(0, 0), (290, 117)]\n",
      "===========\n",
      "\n"
     ]
    }
   ],
   "source": [
    "while system_status.clock <= int(4.41*100):\n",
    "   system_status.process() \n",
    "   if system_status.clock == int(4.41*100):\n",
    "      print(system_status)\n",
    "   system_status.clock += int(system_status.unit_in_second * system_status.second_pre_unit)"
   ]
  },
  {
   "cell_type": "code",
   "execution_count": 171,
   "metadata": {},
   "outputs": [
    {
     "name": "stderr",
     "output_type": "stream",
     "text": [
      "INFO:__main__:[finished queue]: ADD Entity(id=2, arrival_time=173, interarrival_time=135, service_time=0)\n",
      "INFO:__main__:[server]: FINISH Entity(id=2, arrival_time=173, interarrival_time=135, service_time=0), clock 466\n",
      "INFO:__main__:[waiting queue]: POP Entity(id=3, arrival_time=308, interarrival_time=71, service_time=339)\n",
      "INFO:__main__:[server]: ADD Entity(id=3, arrival_time=308, interarrival_time=71, service_time=339), clock 466\n"
     ]
    },
    {
     "name": "stdout",
     "output_type": "stream",
     "text": [
      "===========\n",
      "clock: 466\n",
      "\n",
      "server: Server(Entity(id=3, arrival_time=308, interarrival_time=71, service_time=339))\n",
      "\n",
      "arriving_queue: FIFO_queue([Entity(id=10, arrival_time=3982, interarrival_time=1, service_time=538), Entity(id=9, arrival_time=3806, interarrival_time=176, service_time=237), Entity(id=8, arrival_time=3491, interarrival_time=315, service_time=336), Entity(id=7, arrival_time=1939, interarrival_time=1552, service_time=207), Entity(id=6, arrival_time=1869, interarrival_time=70, service_time=436)])\n",
      "\n",
      "waiting_queue: FIFO_queue([Entity(id=5, arrival_time=441, interarrival_time=1428, service_time=446), Entity(id=4, arrival_time=379, interarrival_time=62, service_time=452)])\n",
      "\n",
      "finished_queue: FIFO_queue([Entity(id=2, arrival_time=173, interarrival_time=135, service_time=0), Entity(id=1, arrival_time=0, interarrival_time=173, service_time=0)])\n",
      "\n",
      "num_completed_waiting: 3\n",
      "\n",
      "total_waiting_time_in_queue: [(0, 0), (290, 117), (466, 275)]\n",
      "===========\n",
      "\n"
     ]
    }
   ],
   "source": [
    "while system_status.clock <= int(4.66*100):\n",
    "   system_status.process() \n",
    "   if system_status.clock == int(4.66*100):\n",
    "      print(system_status)\n",
    "   system_status.clock += int(system_status.unit_in_second * system_status.second_pre_unit)"
   ]
  },
  {
   "cell_type": "code",
   "execution_count": 172,
   "metadata": {},
   "outputs": [
    {
     "name": "stderr",
     "output_type": "stream",
     "text": [
      "INFO:__main__:[finished queue]: ADD Entity(id=3, arrival_time=308, interarrival_time=71, service_time=0)\n",
      "INFO:__main__:[server]: FINISH Entity(id=3, arrival_time=308, interarrival_time=71, service_time=0), clock 805\n",
      "INFO:__main__:[waiting queue]: POP Entity(id=4, arrival_time=379, interarrival_time=62, service_time=452)\n",
      "INFO:__main__:[server]: ADD Entity(id=4, arrival_time=379, interarrival_time=62, service_time=452), clock 805\n"
     ]
    },
    {
     "name": "stdout",
     "output_type": "stream",
     "text": [
      "===========\n",
      "clock: 805\n",
      "\n",
      "server: Server(Entity(id=4, arrival_time=379, interarrival_time=62, service_time=452))\n",
      "\n",
      "arriving_queue: FIFO_queue([Entity(id=10, arrival_time=3982, interarrival_time=1, service_time=538), Entity(id=9, arrival_time=3806, interarrival_time=176, service_time=237), Entity(id=8, arrival_time=3491, interarrival_time=315, service_time=336), Entity(id=7, arrival_time=1939, interarrival_time=1552, service_time=207), Entity(id=6, arrival_time=1869, interarrival_time=70, service_time=436)])\n",
      "\n",
      "waiting_queue: FIFO_queue([Entity(id=5, arrival_time=441, interarrival_time=1428, service_time=446)])\n",
      "\n",
      "finished_queue: FIFO_queue([Entity(id=3, arrival_time=308, interarrival_time=71, service_time=0), Entity(id=2, arrival_time=173, interarrival_time=135, service_time=0), Entity(id=1, arrival_time=0, interarrival_time=173, service_time=0)])\n",
      "\n",
      "num_completed_waiting: 4\n",
      "\n",
      "total_waiting_time_in_queue: [(0, 0), (290, 117), (466, 275), (805, 701)]\n",
      "===========\n",
      "\n"
     ]
    }
   ],
   "source": [
    "while system_status.clock <= int(8.05*100):\n",
    "   system_status.process() \n",
    "   if system_status.clock == int(8.05*100):\n",
    "      print(system_status)\n",
    "   system_status.clock += int(system_status.unit_in_second * system_status.second_pre_unit)"
   ]
  },
  {
   "cell_type": "code",
   "execution_count": 173,
   "metadata": {},
   "outputs": [
    {
     "name": "stderr",
     "output_type": "stream",
     "text": [
      "INFO:__main__:[finished queue]: ADD Entity(id=4, arrival_time=379, interarrival_time=62, service_time=0)\n",
      "INFO:__main__:[server]: FINISH Entity(id=4, arrival_time=379, interarrival_time=62, service_time=0), clock 1257\n",
      "INFO:__main__:[waiting queue]: POP Entity(id=5, arrival_time=441, interarrival_time=1428, service_time=446)\n",
      "INFO:__main__:[server]: ADD Entity(id=5, arrival_time=441, interarrival_time=1428, service_time=446), clock 1257\n"
     ]
    },
    {
     "name": "stdout",
     "output_type": "stream",
     "text": [
      "===========\n",
      "clock: 1257\n",
      "\n",
      "server: Server(Entity(id=5, arrival_time=441, interarrival_time=1428, service_time=446))\n",
      "\n",
      "arriving_queue: FIFO_queue([Entity(id=10, arrival_time=3982, interarrival_time=1, service_time=538), Entity(id=9, arrival_time=3806, interarrival_time=176, service_time=237), Entity(id=8, arrival_time=3491, interarrival_time=315, service_time=336), Entity(id=7, arrival_time=1939, interarrival_time=1552, service_time=207), Entity(id=6, arrival_time=1869, interarrival_time=70, service_time=436)])\n",
      "\n",
      "waiting_queue: FIFO_queue([])\n",
      "\n",
      "finished_queue: FIFO_queue([Entity(id=4, arrival_time=379, interarrival_time=62, service_time=0), Entity(id=3, arrival_time=308, interarrival_time=71, service_time=0), Entity(id=2, arrival_time=173, interarrival_time=135, service_time=0), Entity(id=1, arrival_time=0, interarrival_time=173, service_time=0)])\n",
      "\n",
      "num_completed_waiting: 5\n",
      "\n",
      "total_waiting_time_in_queue: [(0, 0), (290, 117), (466, 275), (805, 701), (1257, 1517)]\n",
      "===========\n",
      "\n"
     ]
    }
   ],
   "source": [
    "while system_status.clock <= int(12.57*100):\n",
    "   system_status.process() \n",
    "   if system_status.clock == int(12.57*100):\n",
    "      print(system_status)\n",
    "   system_status.clock += int(system_status.unit_in_second * system_status.second_pre_unit)"
   ]
  },
  {
   "cell_type": "code",
   "execution_count": 174,
   "metadata": {},
   "outputs": [
    {
     "name": "stderr",
     "output_type": "stream",
     "text": [
      "INFO:__main__:[finished queue]: ADD Entity(id=5, arrival_time=441, interarrival_time=1428, service_time=0)\n",
      "INFO:__main__:[server]: FINISH Entity(id=5, arrival_time=441, interarrival_time=1428, service_time=0), clock 1703\n"
     ]
    },
    {
     "name": "stdout",
     "output_type": "stream",
     "text": [
      "===========\n",
      "clock: 1703\n",
      "\n",
      "server: Server(None)\n",
      "\n",
      "arriving_queue: FIFO_queue([Entity(id=10, arrival_time=3982, interarrival_time=1, service_time=538), Entity(id=9, arrival_time=3806, interarrival_time=176, service_time=237), Entity(id=8, arrival_time=3491, interarrival_time=315, service_time=336), Entity(id=7, arrival_time=1939, interarrival_time=1552, service_time=207), Entity(id=6, arrival_time=1869, interarrival_time=70, service_time=436)])\n",
      "\n",
      "waiting_queue: FIFO_queue([])\n",
      "\n",
      "finished_queue: FIFO_queue([Entity(id=5, arrival_time=441, interarrival_time=1428, service_time=0), Entity(id=4, arrival_time=379, interarrival_time=62, service_time=0), Entity(id=3, arrival_time=308, interarrival_time=71, service_time=0), Entity(id=2, arrival_time=173, interarrival_time=135, service_time=0), Entity(id=1, arrival_time=0, interarrival_time=173, service_time=0)])\n",
      "\n",
      "num_completed_waiting: 5\n",
      "\n",
      "total_waiting_time_in_queue: [(0, 0), (290, 117), (466, 275), (805, 701), (1257, 1517)]\n",
      "===========\n",
      "\n"
     ]
    }
   ],
   "source": [
    "while system_status.clock <= int(17.03*100):\n",
    "   system_status.process() \n",
    "   if system_status.clock == int(17.03*100):\n",
    "      print(system_status)\n",
    "   system_status.clock += int(system_status.unit_in_second * system_status.second_pre_unit)"
   ]
  },
  {
   "cell_type": "code",
   "execution_count": 175,
   "metadata": {},
   "outputs": [
    {
     "name": "stderr",
     "output_type": "stream",
     "text": [
      "INFO:__main__:[new_arrival]: clock 1869\n",
      "INFO:__main__:[arring queue]: POP Entity(id=6, arrival_time=1869, interarrival_time=70, service_time=436)\n",
      "INFO:__main__:[waiting queue]: ADD Entity(id=6, arrival_time=1869, interarrival_time=70, service_time=436)\n",
      "INFO:__main__:[waiting queue]: POP Entity(id=6, arrival_time=1869, interarrival_time=70, service_time=436)\n",
      "INFO:__main__:[server]: ADD Entity(id=6, arrival_time=1869, interarrival_time=70, service_time=436), clock 1869\n"
     ]
    },
    {
     "name": "stdout",
     "output_type": "stream",
     "text": [
      "===========\n",
      "clock: 1869\n",
      "\n",
      "server: Server(Entity(id=6, arrival_time=1869, interarrival_time=70, service_time=436))\n",
      "\n",
      "arriving_queue: FIFO_queue([Entity(id=10, arrival_time=3982, interarrival_time=1, service_time=538), Entity(id=9, arrival_time=3806, interarrival_time=176, service_time=237), Entity(id=8, arrival_time=3491, interarrival_time=315, service_time=336), Entity(id=7, arrival_time=1939, interarrival_time=1552, service_time=207)])\n",
      "\n",
      "waiting_queue: FIFO_queue([])\n",
      "\n",
      "finished_queue: FIFO_queue([Entity(id=5, arrival_time=441, interarrival_time=1428, service_time=0), Entity(id=4, arrival_time=379, interarrival_time=62, service_time=0), Entity(id=3, arrival_time=308, interarrival_time=71, service_time=0), Entity(id=2, arrival_time=173, interarrival_time=135, service_time=0), Entity(id=1, arrival_time=0, interarrival_time=173, service_time=0)])\n",
      "\n",
      "num_completed_waiting: 6\n",
      "\n",
      "total_waiting_time_in_queue: [(0, 0), (290, 117), (466, 275), (805, 701), (1257, 1517), (1869, 1517)]\n",
      "===========\n",
      "\n"
     ]
    }
   ],
   "source": [
    "while system_status.clock <= int(18.69*100):\n",
    "   system_status.process() \n",
    "   if system_status.clock == int(18.69*100):\n",
    "      print(system_status)\n",
    "   system_status.clock += int(system_status.unit_in_second * system_status.second_pre_unit)"
   ]
  },
  {
   "cell_type": "code",
   "execution_count": 176,
   "metadata": {},
   "outputs": [
    {
     "name": "stderr",
     "output_type": "stream",
     "text": [
      "INFO:__main__:[new_arrival]: clock 1939\n",
      "INFO:__main__:[arring queue]: POP Entity(id=7, arrival_time=1939, interarrival_time=1552, service_time=207)\n",
      "INFO:__main__:[waiting queue]: ADD Entity(id=7, arrival_time=1939, interarrival_time=1552, service_time=207)\n"
     ]
    },
    {
     "name": "stdout",
     "output_type": "stream",
     "text": [
      "===========\n",
      "clock: 1939\n",
      "\n",
      "server: Server(Entity(id=6, arrival_time=1869, interarrival_time=70, service_time=366))\n",
      "\n",
      "arriving_queue: FIFO_queue([Entity(id=10, arrival_time=3982, interarrival_time=1, service_time=538), Entity(id=9, arrival_time=3806, interarrival_time=176, service_time=237), Entity(id=8, arrival_time=3491, interarrival_time=315, service_time=336)])\n",
      "\n",
      "waiting_queue: FIFO_queue([Entity(id=7, arrival_time=1939, interarrival_time=1552, service_time=207)])\n",
      "\n",
      "finished_queue: FIFO_queue([Entity(id=5, arrival_time=441, interarrival_time=1428, service_time=0), Entity(id=4, arrival_time=379, interarrival_time=62, service_time=0), Entity(id=3, arrival_time=308, interarrival_time=71, service_time=0), Entity(id=2, arrival_time=173, interarrival_time=135, service_time=0), Entity(id=1, arrival_time=0, interarrival_time=173, service_time=0)])\n",
      "\n",
      "num_completed_waiting: 6\n",
      "\n",
      "total_waiting_time_in_queue: [(0, 0), (290, 117), (466, 275), (805, 701), (1257, 1517), (1869, 1517)]\n",
      "===========\n",
      "\n"
     ]
    }
   ],
   "source": [
    "while system_status.clock <= int(19.39*100):\n",
    "   system_status.process() \n",
    "   if system_status.clock == int(19.39*100):\n",
    "      print(system_status)\n",
    "   system_status.clock += int(system_status.unit_in_second * system_status.second_pre_unit)"
   ]
  },
  {
   "cell_type": "code",
   "execution_count": 177,
   "metadata": {},
   "outputs": [
    {
     "name": "stdout",
     "output_type": "stream",
     "text": [
      "===========\n",
      "clock: 2000\n",
      "\n",
      "server: Server(Entity(id=6, arrival_time=1869, interarrival_time=70, service_time=305))\n",
      "\n",
      "arriving_queue: FIFO_queue([Entity(id=10, arrival_time=3982, interarrival_time=1, service_time=538), Entity(id=9, arrival_time=3806, interarrival_time=176, service_time=237), Entity(id=8, arrival_time=3491, interarrival_time=315, service_time=336)])\n",
      "\n",
      "waiting_queue: FIFO_queue([Entity(id=7, arrival_time=1939, interarrival_time=1552, service_time=207)])\n",
      "\n",
      "finished_queue: FIFO_queue([Entity(id=5, arrival_time=441, interarrival_time=1428, service_time=0), Entity(id=4, arrival_time=379, interarrival_time=62, service_time=0), Entity(id=3, arrival_time=308, interarrival_time=71, service_time=0), Entity(id=2, arrival_time=173, interarrival_time=135, service_time=0), Entity(id=1, arrival_time=0, interarrival_time=173, service_time=0)])\n",
      "\n",
      "num_completed_waiting: 6\n",
      "\n",
      "total_waiting_time_in_queue: [(0, 0), (290, 117), (466, 275), (805, 701), (1257, 1517), (1869, 1517)]\n",
      "===========\n",
      "\n"
     ]
    }
   ],
   "source": [
    "while system_status.clock <= int(20.00*100):\n",
    "   system_status.process() \n",
    "   if system_status.clock == int(20.00*100):\n",
    "      print(system_status)\n",
    "   system_status.clock += int(system_status.unit_in_second * system_status.second_pre_unit)"
   ]
  },
  {
   "cell_type": "code",
   "execution_count": 178,
   "metadata": {},
   "outputs": [
    {
     "name": "stdout",
     "output_type": "stream",
     "text": [
      "area under B_t: 1834\n"
     ]
    },
    {
     "data": {
      "text/plain": [
       "0.917"
      ]
     },
     "execution_count": 178,
     "metadata": {},
     "output_type": "execute_result"
    }
   ],
   "source": [
    "system_status.utilization()"
   ]
  },
  {
   "cell_type": "code",
   "execution_count": 179,
   "metadata": {},
   "outputs": [
    {
     "name": "stdout",
     "output_type": "stream",
     "text": [
      "average waiting time in queue 2.5283333333333333\n",
      "area under Q_t: 1578\n",
      "time average number in queue 0.789\n"
     ]
    }
   ],
   "source": [
    "#! TODO\n",
    "print(f\"average waiting time in queue {system_status.average_waiting_time_in_queue()}\")\n",
    "#! TODO\n",
    "print(f\"time average number in queue {system_status.time_average_number_in_queue()}\")"
   ]
  },
  {
   "cell_type": "code",
   "execution_count": 180,
   "metadata": {},
   "outputs": [
    {
     "data": {
      "text/plain": [
       "[(0, 0), (290, 117), (466, 275), (805, 701), (1257, 1517), (1869, 1517)]"
      ]
     },
     "execution_count": 180,
     "metadata": {},
     "output_type": "execute_result"
    }
   ],
   "source": [
    "system_status.total_waiting_time_in_queue"
   ]
  },
  {
   "cell_type": "code",
   "execution_count": null,
   "metadata": {},
   "outputs": [],
   "source": []
  }
 ],
 "metadata": {
  "kernelspec": {
   "display_name": "Python 3",
   "language": "python",
   "name": "python3"
  },
  "language_info": {
   "codemirror_mode": {
    "name": "ipython",
    "version": 3
   },
   "file_extension": ".py",
   "mimetype": "text/x-python",
   "name": "python",
   "nbconvert_exporter": "python",
   "pygments_lexer": "ipython3",
   "version": "3.10.5"
  },
  "orig_nbformat": 4,
  "vscode": {
   "interpreter": {
    "hash": "aee8b7b246df8f9039afb4144a1f6fd8d2ca17a180786b69acc140d282b71a49"
   }
  }
 },
 "nbformat": 4,
 "nbformat_minor": 2
}
