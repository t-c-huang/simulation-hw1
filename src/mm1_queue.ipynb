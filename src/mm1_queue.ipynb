{
 "cells": [
  {
   "cell_type": "code",
   "execution_count": 120,
   "metadata": {},
   "outputs": [],
   "source": [
    "from dataclasses import dataclass\n",
    "\n",
    "import logging\n",
    "logging.basicConfig(level=logging.INFO)\n",
    "logger = logging.getLogger(__name__)\n",
    "fhandler = logging.FileHandler(filename='simulate.log', mode='w')\n",
    "formatter = logging.Formatter('%(message)s')\n",
    "fhandler.setFormatter(formatter)\n",
    "logger.addHandler(fhandler)\n",
    "\n",
    "@dataclass\n",
    "class Entity:\n",
    "    id: int\n",
    "    arrival_time: float\n",
    "    interarrival_time: float\n",
    "    service_time: float\n",
    "    def __repr__(self):\n",
    "        return f\"Entity(\\\n",
    "id={self.id}, \\\n",
    "arrival_time={self.arrival_time}, \\\n",
    "interarrival_time={self.interarrival_time}, \\\n",
    "service_time={self.service_time})\"\n",
    "\n",
    "class FIFO_queue:\n",
    "    def __init__(self, q_type, entity_list=None):\n",
    "        self.q_type = q_type\n",
    "        if entity_list:\n",
    "            self.queue = entity_list\n",
    "        else:\n",
    "            self.queue = []\n",
    "    def add(self, entity, clock):\n",
    "        logger.info(f\"[{clock}][{self.q_type} queue]: ADD {entity}\")\n",
    "        self.queue.insert(0, entity)\n",
    "    def pop(self, clock):\n",
    "        pop_entity = self.queue.pop()\n",
    "        logger.info(f\"[{clock}][{self.q_type} queue]: POP {pop_entity}\")\n",
    "        return pop_entity\n",
    "    def __repr__(self):\n",
    "        return f\"FIFO_queue({self.queue})\"\n",
    "\n",
    "class Server:\n",
    "    def __init__(self, shotdown_policy = False):\n",
    "        self.shotdown_policy = shotdown_policy\n",
    "        self.shotdown = False\n",
    "        # self.busy_until = 0\n",
    "        self.entity = None\n",
    "    \n",
    "    def check_shotdown(self, clock = None):\n",
    "        if self.shotdown_policy == True:\n",
    "            if clock != None:\n",
    "                location_in_period = clock % (400 + 400 + 2000)\n",
    "                if 400 <= location_in_period and location_in_period < (400 + 400):\n",
    "                    if self.shotdown == False:\n",
    "                        logger.info(f\"[{clock}][Server]: SHOTDOWN, {self.entity} in server\")\n",
    "                    self.shotdown = True\n",
    "                else:\n",
    "                    if self.shotdown == True:\n",
    "                        logger.info(f\"[{clock}][Server]: BACK, {self.entity} in server\")\n",
    "                    self.shotdown = False   \n",
    "    def __repr__(self):\n",
    "        return f\"Server({self.entity})\""
   ]
  },
  {
   "cell_type": "code",
   "execution_count": 121,
   "metadata": {},
   "outputs": [],
   "source": [
    "@dataclass\n",
    "class Status:\n",
    "    clock: int\n",
    "\n",
    "    server: Server\n",
    "    arriving_queue: FIFO_queue\n",
    "    waiting_queue: FIFO_queue\n",
    "    finished_queue: FIFO_queue\n",
    "\n",
    "    B_t: list\n",
    "    Q_t: list\n",
    "    num_completed_waiting: int\n",
    "    total_waiting_time_in_queue: list\n",
    "    \n",
    "    # area_under_Q_t: int\n",
    "    # area_under_B_t: int\n",
    "\n",
    "    unit_in_second: float\n",
    "    second_pre_unit: int\n",
    "\n",
    "\n",
    "    def check_Q_t(self):\n",
    "        self.Q_t.append((self.clock, len(self.waiting_queue.queue)))\n",
    "        # self.area_under_Q_t += len(self.waiting_queue.queue) * int(self.unit_in_second * self.second_pre_unit)\n",
    "\n",
    "    def check_arrival(self):\n",
    "        if self.arriving_queue.queue:\n",
    "            len_arriving_queue = len(self.arriving_queue.queue)\n",
    "            # logger.debug(f\"check_arrival: {self.clock}, len of arriving_queue: {len_arriving_queue}\")\n",
    "            if self.clock == self.arriving_queue.queue[-1].arrival_time:\n",
    "                # logger.info(f\"[new_arrival]: clock {self.clock}\")\n",
    "                entity = self.arriving_queue.pop(self.clock)\n",
    "                self.waiting_queue.add(entity, self.clock)\n",
    "\n",
    "    \n",
    "    def check_service(self):\n",
    "        # logger.debug(f\"check_service: {self.clock}, server: {self.server}\")\n",
    "        self.server.check_shotdown(self.clock)\n",
    "\n",
    "        if self.server.entity != None:\n",
    "            if self.server.shotdown == False:\n",
    "            # if True:\n",
    "                self.server.entity.service_time -= int(self.unit_in_second * self.second_pre_unit)\n",
    "            \n",
    "            if self.server.entity.service_time == 0: #! Check this\n",
    "                self.finished_queue.add(self.server.entity, self.clock)\n",
    "                logger.info(f\"[{self.clock}][server]: FINISH {self.server.entity}\")\n",
    "                self.server.entity = None\n",
    "                # logger.info(f\"server: SERVE {self.server.entity}\")\n",
    "        if self.server.entity == None:\n",
    "            if len(self.waiting_queue.queue) > 0:\n",
    "                entity = self.waiting_queue.pop(self.clock)\n",
    "                self.num_completed_waiting += 1\n",
    "                self.server.entity = entity\n",
    "                #! self.server.entity.service_time -= int(self.unit_in_second * self.second_pre_unit)\n",
    "                #! self.total_waiting_time_in_queue += self.clock - entity.arrival_time\n",
    "                if len(self.total_waiting_time_in_queue) > 0:\n",
    "                    self.total_waiting_time_in_queue.append((self.clock, self.clock - entity.arrival_time + self.total_waiting_time_in_queue[-1][1])) #! Check this\n",
    "                else:\n",
    "                    self.total_waiting_time_in_queue.append((self.clock, self.clock - entity.arrival_time))\n",
    "                logger.info(f\"[{self.clock}][server]: START {self.server.entity}\")\n",
    "        \n",
    "        server_status = 1 if self.server.entity else 0\n",
    "        self.B_t.append((self.clock, server_status))\n",
    "    \n",
    "    def process(self):\n",
    "        self.check_arrival()\n",
    "        self.check_service()\n",
    "        self.check_Q_t()\n",
    "        self.clock += int(self.unit_in_second * self.second_pre_unit)\n",
    "    \n",
    "    def average_waiting_time_in_queue(self):\n",
    "        return (self.total_waiting_time_in_queue[-1][1] / self.num_completed_waiting) * self.unit_in_second\n",
    "\n",
    "    def time_average_number_in_queue(self):\n",
    "        area_under_Q_t = sum([i[1] for i in self.Q_t[:-1]]) \n",
    "        # print(f\"area under Q_t: {area_under_Q_t}\")\n",
    "        return area_under_Q_t / (len(self.Q_t[:-1])) #! Check this\n",
    "\n",
    "    def utilization(self):\n",
    "        area_under_B_t = sum([i[1] for i in self.B_t[:-1]])\n",
    "        # print(f\"area under B_t: {area_under_B_t}\")\n",
    "        return area_under_B_t / (len(self.B_t[:-1])) #1 Check this\n",
    "        \n",
    "    def __repr__(self):\n",
    "        return f\"===========\\n\\\n",
    "clock: {self.clock}\\n\\n\\\n",
    "server: {self.server}\\n\\n\\\n",
    "arriving_queue: {self.arriving_queue}\\n\\n\\\n",
    "waiting_queue: {self.waiting_queue}\\n\\n\\\n",
    "finished_queue: {self.finished_queue}\\n\\n\\\n",
    "num_completed_waiting: {self.num_completed_waiting}\\n\\n\\\n",
    "total_waiting_time_in_queue: {self.total_waiting_time_in_queue}\\n\\\n",
    "===========\\n\"\n",
    "# B_t: {self.B_t}, Q_t: {self.Q_t}, \n",
    "    # def __repr__(self):\n",
    "    #     return f\"Status(\\\n",
    "# area_under_Q_t: {self.area_under_Q_t}, area_under_B_t: {self.area_under_B_t}\\n\\n\\"
   ]
  },
  {
   "cell_type": "code",
   "execution_count": 122,
   "metadata": {},
   "outputs": [
    {
     "name": "stderr",
     "output_type": "stream",
     "text": [
      "INFO:__main__:[0][arring queue]: POP Entity(id=1, arrival_time=0, interarrival_time=173, service_time=290)\n",
      "INFO:__main__:[0][waiting queue]: ADD Entity(id=1, arrival_time=0, interarrival_time=173, service_time=290)\n",
      "INFO:__main__:[0][waiting queue]: POP Entity(id=1, arrival_time=0, interarrival_time=173, service_time=290)\n",
      "INFO:__main__:[0][server]: START Entity(id=1, arrival_time=0, interarrival_time=173, service_time=290)\n",
      "INFO:__main__:[173][arring queue]: POP Entity(id=2, arrival_time=173, interarrival_time=135, service_time=176)\n",
      "INFO:__main__:[173][waiting queue]: ADD Entity(id=2, arrival_time=173, interarrival_time=135, service_time=176)\n",
      "INFO:__main__:[290][finished queue]: ADD Entity(id=1, arrival_time=0, interarrival_time=173, service_time=0)\n",
      "INFO:__main__:[290][server]: FINISH Entity(id=1, arrival_time=0, interarrival_time=173, service_time=0)\n",
      "INFO:__main__:[290][waiting queue]: POP Entity(id=2, arrival_time=173, interarrival_time=135, service_time=176)\n",
      "INFO:__main__:[290][server]: START Entity(id=2, arrival_time=173, interarrival_time=135, service_time=176)\n",
      "INFO:__main__:[308][arring queue]: POP Entity(id=3, arrival_time=308, interarrival_time=71, service_time=339)\n",
      "INFO:__main__:[308][waiting queue]: ADD Entity(id=3, arrival_time=308, interarrival_time=71, service_time=339)\n",
      "INFO:__main__:[379][arring queue]: POP Entity(id=4, arrival_time=379, interarrival_time=62, service_time=452)\n",
      "INFO:__main__:[379][waiting queue]: ADD Entity(id=4, arrival_time=379, interarrival_time=62, service_time=452)\n",
      "INFO:__main__:[441][arring queue]: POP Entity(id=5, arrival_time=441, interarrival_time=1428, service_time=446)\n",
      "INFO:__main__:[441][waiting queue]: ADD Entity(id=5, arrival_time=441, interarrival_time=1428, service_time=446)\n",
      "INFO:__main__:[466][finished queue]: ADD Entity(id=2, arrival_time=173, interarrival_time=135, service_time=0)\n",
      "INFO:__main__:[466][server]: FINISH Entity(id=2, arrival_time=173, interarrival_time=135, service_time=0)\n",
      "INFO:__main__:[466][waiting queue]: POP Entity(id=3, arrival_time=308, interarrival_time=71, service_time=339)\n",
      "INFO:__main__:[466][server]: START Entity(id=3, arrival_time=308, interarrival_time=71, service_time=339)\n",
      "INFO:__main__:[805][finished queue]: ADD Entity(id=3, arrival_time=308, interarrival_time=71, service_time=0)\n",
      "INFO:__main__:[805][server]: FINISH Entity(id=3, arrival_time=308, interarrival_time=71, service_time=0)\n",
      "INFO:__main__:[805][waiting queue]: POP Entity(id=4, arrival_time=379, interarrival_time=62, service_time=452)\n",
      "INFO:__main__:[805][server]: START Entity(id=4, arrival_time=379, interarrival_time=62, service_time=452)\n",
      "INFO:__main__:[1257][finished queue]: ADD Entity(id=4, arrival_time=379, interarrival_time=62, service_time=0)\n",
      "INFO:__main__:[1257][server]: FINISH Entity(id=4, arrival_time=379, interarrival_time=62, service_time=0)\n",
      "INFO:__main__:[1257][waiting queue]: POP Entity(id=5, arrival_time=441, interarrival_time=1428, service_time=446)\n",
      "INFO:__main__:[1257][server]: START Entity(id=5, arrival_time=441, interarrival_time=1428, service_time=446)\n",
      "INFO:__main__:[1703][finished queue]: ADD Entity(id=5, arrival_time=441, interarrival_time=1428, service_time=0)\n",
      "INFO:__main__:[1703][server]: FINISH Entity(id=5, arrival_time=441, interarrival_time=1428, service_time=0)\n",
      "INFO:__main__:[1869][arring queue]: POP Entity(id=6, arrival_time=1869, interarrival_time=70, service_time=436)\n",
      "INFO:__main__:[1869][waiting queue]: ADD Entity(id=6, arrival_time=1869, interarrival_time=70, service_time=436)\n",
      "INFO:__main__:[1869][waiting queue]: POP Entity(id=6, arrival_time=1869, interarrival_time=70, service_time=436)\n",
      "INFO:__main__:[1869][server]: START Entity(id=6, arrival_time=1869, interarrival_time=70, service_time=436)\n",
      "INFO:__main__:[1939][arring queue]: POP Entity(id=7, arrival_time=1939, interarrival_time=1552, service_time=207)\n",
      "INFO:__main__:[1939][waiting queue]: ADD Entity(id=7, arrival_time=1939, interarrival_time=1552, service_time=207)\n",
      "INFO:__main__:average waiting time in queue: 2.5283333333333333\n",
      "INFO:__main__:time average number in queue: 0.789\n",
      "INFO:__main__:utilization: 0.917\n"
     ]
    },
    {
     "name": "stdout",
     "output_type": "stream",
     "text": [
      "===========\n",
      "clock: 0\n",
      "\n",
      "server: Server(None)\n",
      "\n",
      "arriving_queue: FIFO_queue([Entity(id=10, arrival_time=3982, interarrival_time=1, service_time=538), Entity(id=9, arrival_time=3806, interarrival_time=176, service_time=237), Entity(id=8, arrival_time=3491, interarrival_time=315, service_time=336), Entity(id=7, arrival_time=1939, interarrival_time=1552, service_time=207), Entity(id=6, arrival_time=1869, interarrival_time=70, service_time=436), Entity(id=5, arrival_time=441, interarrival_time=1428, service_time=446), Entity(id=4, arrival_time=379, interarrival_time=62, service_time=452), Entity(id=3, arrival_time=308, interarrival_time=71, service_time=339), Entity(id=2, arrival_time=173, interarrival_time=135, service_time=176), Entity(id=1, arrival_time=0, interarrival_time=173, service_time=290)])\n",
      "\n",
      "waiting_queue: FIFO_queue([])\n",
      "\n",
      "finished_queue: FIFO_queue([])\n",
      "\n",
      "num_completed_waiting: 0\n",
      "\n",
      "total_waiting_time_in_queue: []\n",
      "===========\n",
      "\n",
      "===========\n",
      "clock: 2001\n",
      "\n",
      "server: Server(Entity(id=6, arrival_time=1869, interarrival_time=70, service_time=305))\n",
      "\n",
      "arriving_queue: FIFO_queue([Entity(id=10, arrival_time=3982, interarrival_time=1, service_time=538), Entity(id=9, arrival_time=3806, interarrival_time=176, service_time=237), Entity(id=8, arrival_time=3491, interarrival_time=315, service_time=336)])\n",
      "\n",
      "waiting_queue: FIFO_queue([Entity(id=7, arrival_time=1939, interarrival_time=1552, service_time=207)])\n",
      "\n",
      "finished_queue: FIFO_queue([Entity(id=5, arrival_time=441, interarrival_time=1428, service_time=0), Entity(id=4, arrival_time=379, interarrival_time=62, service_time=0), Entity(id=3, arrival_time=308, interarrival_time=71, service_time=0), Entity(id=2, arrival_time=173, interarrival_time=135, service_time=0), Entity(id=1, arrival_time=0, interarrival_time=173, service_time=0)])\n",
      "\n",
      "num_completed_waiting: 6\n",
      "\n",
      "total_waiting_time_in_queue: [(0, 0), (290, 117), (466, 275), (805, 701), (1257, 1517), (1869, 1517)]\n",
      "===========\n",
      "\n",
      "average waiting time in queue: 2.5283333333333333\n",
      "time average number in queue: 0.789\n",
      "utilization: 0.917\n"
     ]
    }
   ],
   "source": [
    "arrival_time_list = [0, 173, 308, 379, 441, 1869, 1939, 3491, 3806, 3982]\n",
    "interarrival_time_list = [173, 135, 71, 62, 1428, 70, 1552, 315, 176, 1]\n",
    "service_time = [290, 176, 339, 452, 446, 436, 207, 336, 237, 538]\n",
    "\n",
    "# arrival_time_list = [int(i*100) for i in arrival_time_list]\n",
    "# interarrival_time_list = [int(i*100) for i in interarrival_time_list]\n",
    "# service_time = [int(i*100) for i in service_time]\n",
    "\n",
    "entity_list = [Entity(i + 1, arrival_time, interarrival_time, service_time) for i, (arrival_time, interarrival_time, service_time) in enumerate(zip(arrival_time_list, interarrival_time_list, service_time))]\n",
    "entity_list.reverse()\n",
    "\n",
    "system_status = Status(\n",
    "    clock = int(0.00*100),\n",
    "    server = Server(),\n",
    "    arriving_queue = FIFO_queue(\"arring\", entity_list.copy()),\n",
    "    waiting_queue = FIFO_queue(\"waiting\", None),\n",
    "    finished_queue = FIFO_queue(\"finished\", None),\n",
    "    num_completed_waiting = 0,\n",
    "    B_t = [], # Server status (time, status)\n",
    "    Q_t = [], # Queue status (time, num_in_queue)\n",
    "    total_waiting_time_in_queue = [],\n",
    "    unit_in_second = 0.01,\n",
    "    second_pre_unit = 100,\n",
    ")\n",
    "print(system_status)\n",
    "while system_status.clock <= int(20.00*100):\n",
    "   system_status.process()\n",
    "\n",
    "print(system_status)\n",
    "\n",
    "print(f\"average waiting time in queue: {system_status.average_waiting_time_in_queue()}\")\n",
    "print(f\"time average number in queue: {system_status.time_average_number_in_queue()}\")\n",
    "print(f\"utilization: {system_status.utilization()}\")\n",
    "\n",
    "logger.info(f\"average waiting time in queue: {system_status.average_waiting_time_in_queue()}\")\n",
    "logger.info(f\"time average number in queue: {system_status.time_average_number_in_queue()}\")\n",
    "logger.info(f\"utilization: {system_status.utilization()}\")\n",
    "\n",
    "# while system_status.clock <= int(1.73*100):\n",
    "#    system_status.process()\n",
    "#    if system_status.clock == int(1.73*100):\n",
    "#       print(system_status)\n",
    "#    system_status.clock += int(system_status.unit_in_second * system_status.second_pre_unit)\n"
   ]
  },
  {
   "cell_type": "code",
   "execution_count": 123,
   "metadata": {},
   "outputs": [
    {
     "name": "stderr",
     "output_type": "stream",
     "text": [
      "INFO:__main__:[0][arring queue]: POP Entity(id=1, arrival_time=0, interarrival_time=173, service_time=290)\n",
      "INFO:__main__:[0][waiting queue]: ADD Entity(id=1, arrival_time=0, interarrival_time=173, service_time=290)\n",
      "INFO:__main__:[0][waiting queue]: POP Entity(id=1, arrival_time=0, interarrival_time=173, service_time=290)\n",
      "INFO:__main__:[0][server]: START Entity(id=1, arrival_time=0, interarrival_time=173, service_time=290)\n",
      "INFO:__main__:[173][arring queue]: POP Entity(id=2, arrival_time=173, interarrival_time=135, service_time=176)\n",
      "INFO:__main__:[173][waiting queue]: ADD Entity(id=2, arrival_time=173, interarrival_time=135, service_time=176)\n",
      "INFO:__main__:[290][finished queue]: ADD Entity(id=1, arrival_time=0, interarrival_time=173, service_time=0)\n",
      "INFO:__main__:[290][server]: FINISH Entity(id=1, arrival_time=0, interarrival_time=173, service_time=0)\n",
      "INFO:__main__:[290][waiting queue]: POP Entity(id=2, arrival_time=173, interarrival_time=135, service_time=176)\n",
      "INFO:__main__:[290][server]: START Entity(id=2, arrival_time=173, interarrival_time=135, service_time=176)\n",
      "INFO:__main__:[308][arring queue]: POP Entity(id=3, arrival_time=308, interarrival_time=71, service_time=339)\n",
      "INFO:__main__:[308][waiting queue]: ADD Entity(id=3, arrival_time=308, interarrival_time=71, service_time=339)\n",
      "INFO:__main__:[379][arring queue]: POP Entity(id=4, arrival_time=379, interarrival_time=62, service_time=452)\n",
      "INFO:__main__:[379][waiting queue]: ADD Entity(id=4, arrival_time=379, interarrival_time=62, service_time=452)\n",
      "INFO:__main__:[400][Server]: SHOTDOWN, Entity(id=2, arrival_time=173, interarrival_time=135, service_time=67) in server\n",
      "INFO:__main__:[441][arring queue]: POP Entity(id=5, arrival_time=441, interarrival_time=1428, service_time=446)\n",
      "INFO:__main__:[441][waiting queue]: ADD Entity(id=5, arrival_time=441, interarrival_time=1428, service_time=446)\n",
      "INFO:__main__:[800][Server]: BACK, Entity(id=2, arrival_time=173, interarrival_time=135, service_time=67) in server\n",
      "INFO:__main__:[866][finished queue]: ADD Entity(id=2, arrival_time=173, interarrival_time=135, service_time=0)\n",
      "INFO:__main__:[866][server]: FINISH Entity(id=2, arrival_time=173, interarrival_time=135, service_time=0)\n",
      "INFO:__main__:[866][waiting queue]: POP Entity(id=3, arrival_time=308, interarrival_time=71, service_time=339)\n",
      "INFO:__main__:[866][server]: START Entity(id=3, arrival_time=308, interarrival_time=71, service_time=339)\n",
      "INFO:__main__:[1205][finished queue]: ADD Entity(id=3, arrival_time=308, interarrival_time=71, service_time=0)\n",
      "INFO:__main__:[1205][server]: FINISH Entity(id=3, arrival_time=308, interarrival_time=71, service_time=0)\n",
      "INFO:__main__:[1205][waiting queue]: POP Entity(id=4, arrival_time=379, interarrival_time=62, service_time=452)\n",
      "INFO:__main__:[1205][server]: START Entity(id=4, arrival_time=379, interarrival_time=62, service_time=452)\n",
      "INFO:__main__:[1657][finished queue]: ADD Entity(id=4, arrival_time=379, interarrival_time=62, service_time=0)\n",
      "INFO:__main__:[1657][server]: FINISH Entity(id=4, arrival_time=379, interarrival_time=62, service_time=0)\n",
      "INFO:__main__:[1657][waiting queue]: POP Entity(id=5, arrival_time=441, interarrival_time=1428, service_time=446)\n",
      "INFO:__main__:[1657][server]: START Entity(id=5, arrival_time=441, interarrival_time=1428, service_time=446)\n",
      "INFO:__main__:[1869][arring queue]: POP Entity(id=6, arrival_time=1869, interarrival_time=70, service_time=436)\n",
      "INFO:__main__:[1869][waiting queue]: ADD Entity(id=6, arrival_time=1869, interarrival_time=70, service_time=436)\n",
      "INFO:__main__:[1939][arring queue]: POP Entity(id=7, arrival_time=1939, interarrival_time=1552, service_time=207)\n",
      "INFO:__main__:[1939][waiting queue]: ADD Entity(id=7, arrival_time=1939, interarrival_time=1552, service_time=207)\n",
      "INFO:__main__:average waiting time in queue: 5.434\n",
      "INFO:__main__:time average number in queue: 1.4545\n",
      "INFO:__main__:utilization: 1.0\n"
     ]
    },
    {
     "name": "stdout",
     "output_type": "stream",
     "text": [
      "===========\n",
      "clock: 0\n",
      "\n",
      "server: Server(None)\n",
      "\n",
      "arriving_queue: FIFO_queue([Entity(id=10, arrival_time=3982, interarrival_time=1, service_time=538), Entity(id=9, arrival_time=3806, interarrival_time=176, service_time=237), Entity(id=8, arrival_time=3491, interarrival_time=315, service_time=336), Entity(id=7, arrival_time=1939, interarrival_time=1552, service_time=207), Entity(id=6, arrival_time=1869, interarrival_time=70, service_time=436), Entity(id=5, arrival_time=441, interarrival_time=1428, service_time=446), Entity(id=4, arrival_time=379, interarrival_time=62, service_time=452), Entity(id=3, arrival_time=308, interarrival_time=71, service_time=339), Entity(id=2, arrival_time=173, interarrival_time=135, service_time=176), Entity(id=1, arrival_time=0, interarrival_time=173, service_time=290)])\n",
      "\n",
      "waiting_queue: FIFO_queue([])\n",
      "\n",
      "finished_queue: FIFO_queue([])\n",
      "\n",
      "num_completed_waiting: 0\n",
      "\n",
      "total_waiting_time_in_queue: []\n",
      "===========\n",
      "\n",
      "===========\n",
      "clock: 2001\n",
      "\n",
      "server: Server(Entity(id=5, arrival_time=441, interarrival_time=1428, service_time=103))\n",
      "\n",
      "arriving_queue: FIFO_queue([Entity(id=10, arrival_time=3982, interarrival_time=1, service_time=538), Entity(id=9, arrival_time=3806, interarrival_time=176, service_time=237), Entity(id=8, arrival_time=3491, interarrival_time=315, service_time=336)])\n",
      "\n",
      "waiting_queue: FIFO_queue([Entity(id=7, arrival_time=1939, interarrival_time=1552, service_time=207), Entity(id=6, arrival_time=1869, interarrival_time=70, service_time=436)])\n",
      "\n",
      "finished_queue: FIFO_queue([Entity(id=4, arrival_time=379, interarrival_time=62, service_time=0), Entity(id=3, arrival_time=308, interarrival_time=71, service_time=0), Entity(id=2, arrival_time=173, interarrival_time=135, service_time=0), Entity(id=1, arrival_time=0, interarrival_time=173, service_time=0)])\n",
      "\n",
      "num_completed_waiting: 5\n",
      "\n",
      "total_waiting_time_in_queue: [(0, 0), (290, 117), (866, 675), (1205, 1501), (1657, 2717)]\n",
      "===========\n",
      "\n",
      "average waiting time in queue: 5.434\n",
      "time average number in queue: 1.4545\n",
      "utilization: 1.0\n"
     ]
    }
   ],
   "source": [
    "arrival_time_list = [0, 173, 308, 379, 441, 1869, 1939, 3491, 3806, 3982]\n",
    "interarrival_time_list = [173, 135, 71, 62, 1428, 70, 1552, 315, 176, 1]\n",
    "service_time = [290, 176, 339, 452, 446, 436, 207, 336, 237, 538]\n",
    "\n",
    "entity_list = [Entity(i + 1, arrival_time, interarrival_time, service_time) for i, (arrival_time, interarrival_time, service_time) in enumerate(zip(arrival_time_list, interarrival_time_list, service_time))]\n",
    "entity_list.reverse()\n",
    "\n",
    "system_status2 = Status(\n",
    "    clock = int(0.00*100),\n",
    "    server = Server(shotdown_policy=True),\n",
    "    arriving_queue = FIFO_queue(\"arring\", entity_list.copy()),\n",
    "    waiting_queue = FIFO_queue(\"waiting\", None),\n",
    "    finished_queue = FIFO_queue(\"finished\", None),\n",
    "    num_completed_waiting = 0,\n",
    "    B_t = [], # Server status (time, status)\n",
    "    Q_t = [], # Queue status (time, num_in_queue)\n",
    "    total_waiting_time_in_queue = [],\n",
    "    unit_in_second = 0.01,\n",
    "    second_pre_unit = 100,\n",
    ")\n",
    "print(system_status2)\n",
    "while system_status2.clock <= int(20.00*100):\n",
    "    system_status2.process()\n",
    "    # if system_status.server.shotdown == True:\n",
    "    #   print(system_status)\n",
    "    #   break\n",
    "\n",
    "print(system_status2)\n",
    "\n",
    "print(f\"average waiting time in queue: {system_status2.average_waiting_time_in_queue()}\")\n",
    "print(f\"time average number in queue: {system_status2.time_average_number_in_queue()}\")\n",
    "print(f\"utilization: {system_status2.utilization()}\")\n",
    "\n",
    "logger.info(f\"average waiting time in queue: {system_status2.average_waiting_time_in_queue()}\")\n",
    "logger.info(f\"time average number in queue: {system_status2.time_average_number_in_queue()}\")\n",
    "logger.info(f\"utilization: {system_status2.utilization()}\")"
   ]
  },
  {
   "cell_type": "code",
   "execution_count": 134,
   "metadata": {},
   "outputs": [
    {
     "data": {
      "text/plain": [
       "<matplotlib.patches.StepPatch at 0x12eb5e8c0>"
      ]
     },
     "execution_count": 134,
     "metadata": {},
     "output_type": "execute_result"
    },
    {
     "data": {
      "image/png": "[encoded data removed]",
      "text/plain": [
       "<Figure size 2000x500 with 1 Axes>"
      ]
     },
     "metadata": {},
     "output_type": "display_data"
    }
   ],
   "source": [
    "import matplotlib.pyplot as plt\n",
    "values = [i[1] for i in system_status.B_t]\n",
    "plt.figure(figsize=(20,5))\n",
    "plt.stairs(values, label=\"B_t\", fill=False)\n"
   ]
  },
  {
   "cell_type": "code",
   "execution_count": 135,
   "metadata": {},
   "outputs": [
    {
     "data": {
      "text/plain": [
       "<matplotlib.patches.StepPatch at 0x12ebf9510>"
      ]
     },
     "execution_count": 135,
     "metadata": {},
     "output_type": "execute_result"
    },
    {
     "data": {
      "image/png": "[encoded data removed]",
      "text/plain": [
       "<Figure size 2000x500 with 1 Axes>"
      ]
     },
     "metadata": {},
     "output_type": "display_data"
    }
   ],
   "source": [
    "values = [i[1] for i in system_status.Q_t]\n",
    "plt.figure(figsize=(20,5))\n",
    "plt.stairs(values, label=\"Q_t\", fill=False)"
   ]
  },
  {
   "cell_type": "code",
   "execution_count": 136,
   "metadata": {},
   "outputs": [
    {
     "data": {
      "text/plain": [
       "<matplotlib.patches.StepPatch at 0x12ec47790>"
      ]
     },
     "execution_count": 136,
     "metadata": {},
     "output_type": "execute_result"
    },
    {
     "data": {
      "image/png": "[encoded data removed]",
      "text/plain": [
       "<Figure size 2000x500 with 1 Axes>"
      ]
     },
     "metadata": {},
     "output_type": "display_data"
    }
   ],
   "source": [
    "values = [i[1] for i in system_status2.B_t]\n",
    "plt.figure(figsize=(20,5))\n",
    "plt.stairs(values, label=\"B_t\", fill=False)"
   ]
  },
  {
   "cell_type": "code",
   "execution_count": 137,
   "metadata": {},
   "outputs": [
    {
     "data": {
      "text/plain": [
       "<matplotlib.patches.StepPatch at 0x12ecdb9a0>"
      ]
     },
     "execution_count": 137,
     "metadata": {},
     "output_type": "execute_result"
    },
    {
     "data": {
      "image/png": "[encoded data removed]",
      "text/plain": [
       "<Figure size 2000x500 with 1 Axes>"
      ]
     },
     "metadata": {},
     "output_type": "display_data"
    }
   ],
   "source": [
    "values = [i[1] for i in system_status2.Q_t]\n",
    "plt.figure(figsize=(20,5))\n",
    "plt.stairs(values, label=\"Q_t\", fill=False)"
   ]
  },
  {
   "cell_type": "code",
   "execution_count": 128,
   "metadata": {},
   "outputs": [],
   "source": [
    "@dataclass\n",
    "class SimulationRecord:\n",
    "    # entity: Entity\n",
    "    # arrival_time: float\n",
    "    # interarrival_time: float\n",
    "    # service_time: float\n",
    "    # departure_time: float\n",
    "    # time_in_system: float\n",
    "    # time_in_queue: float\n",
    "\n",
    "    # def __repr__(self):\n",
    "    #     return f\"SimulationRecord(\\\n",
    "    pass"
   ]
  }
 ],
 "metadata": {
  "kernelspec": {
   "display_name": "simulation-hw1-2iyDpK3b",
   "language": "python",
   "name": "python3"
  },
  "language_info": {
   "codemirror_mode": {
    "name": "ipython",
    "version": 3
   },
   "file_extension": ".py",
   "mimetype": "text/x-python",
   "name": "python",
   "nbconvert_exporter": "python",
   "pygments_lexer": "ipython3",
   "version": "3.10.5"
  },
  "orig_nbformat": 4,
  "vscode": {
   "interpreter": {
    "hash": "f86dc5fcbe5c6c0d6f4828ca596e15a6a27bedd69895be23257bf7d0261533c6"
   }
  }
 },
 "nbformat": 4,
 "nbformat_minor": 2
}
