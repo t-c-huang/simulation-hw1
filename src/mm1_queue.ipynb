{
 "cells": [
  {
   "cell_type": "code",
   "execution_count": 5,
   "metadata": {},
   "outputs": [],
   "source": [
    "from dataclasses import dataclass\n",
    "\n",
    "@dataclass\n",
    "class Entity:\n",
    "    arrival_time: float\n",
    "    interarrival_time: float\n",
    "    service_time: float\n",
    "    # departure_time: float\n",
    "\n",
    "    def __repr__(self):\n",
    "        return f\"Entity(\\\n",
    "arrival_time={self.arrival_time}, \\\n",
    "interarrival_time={self.interarrival_time}, \\\n",
    "service_time={self.service_time})\"\n",
    "                    # ,departure_time={self.departure_time})\"\n",
    "\n",
    "arrival_time_list = [0.00, 1.73, 3.08, 3.79, 4.41, 18.69, 19.39, 34.91, 38.06, 39.82]\n",
    "interarrival_time_list = [1.73, 1.35, 0.71, 0.62, 14.28, 0.70, 15.52, 3.15, 1.76, 1.00]\n",
    "service_time = [2.90, 1.76, 3.39, 4.52, 4.46, 4.36, 2.07, 3.36, 2.37, 5.38]\n",
    "\n",
    "entity_list = [Entity(arrival_time, interarrival_time, service_time) for arrival_time, interarrival_time, service_time in zip(arrival_time_list, interarrival_time_list, service_time)]\n"
   ]
  },
  {
   "cell_type": "code",
   "execution_count": null,
   "metadata": {},
   "outputs": [],
   "source": [
    "@dataclass\n",
    "class SimulationRecord:\n",
    "    # entity: Entity\n",
    "    # arrival_time: float\n",
    "    # interarrival_time: float\n",
    "    # service_time: float\n",
    "    # departure_time: float\n",
    "    # time_in_system: float\n",
    "    # time_in_queue: float\n",
    "\n",
    "    # def __repr__(self):\n",
    "    #     return f\"SimulationRecord(\\\n",
    "    pass"
   ]
  },
  {
   "cell_type": "code",
   "execution_count": null,
   "metadata": {},
   "outputs": [],
   "source": [
    "class FIFO_queue:\n",
    "    def __init__(self, entity_list=None):\n",
    "        self.queue = entity_list if entity_list else []\n",
    "    def add(self, entity):\n",
    "        self.queue.insert(0, entity)\n",
    "    def pop(self):\n",
    "        return self.queue.pop()\n",
    "\n",
    "class Server:\n",
    "    def __init__(self):\n",
    "        self.is_busy = False\n",
    "        # self.busy_until = 0\n",
    "        self.entity = None\n",
    "    # def is_free(self, time):\n",
    "    #     return not self.is_busy or self.busy_until <= time\n",
    "    # def serve(self, entity, time):\n",
    "    #     self.is_busy = True\n",
    "    #     self.busy_until = time + entity.service_time\n",
    "    #     self.entity = entity\n",
    "    # def free(self, time):\n",
    "    #     self.is_busy = False\n",
    "    #     self.busy_until = 0\n",
    "    #     self.entity = None\n",
    "\n",
    "arriving_queue = FIFO_queue(entity_list)\n",
    "waiting_queue = FIFO_queue(None)\n",
    "finished_queue = FIFO_queue(None)\n",
    "\n",
    "server = Server()\n"
   ]
  },
  {
   "cell_type": "code",
   "execution_count": null,
   "metadata": {},
   "outputs": [],
   "source": [
    "def average_waiting_time_in_queue():\n",
    "    pass\n",
    "\n",
    "def time_average_number_in_queue():\n",
    "    pass\n",
    "\n",
    "def utilization():\n",
    "    pass"
   ]
  },
  {
   "cell_type": "code",
   "execution_count": 6,
   "metadata": {},
   "outputs": [
    {
     "data": {
      "text/plain": [
       "Entity(arrival_time=0.0, interarrival_time=1.73, service_time=2.9)"
      ]
     },
     "execution_count": 6,
     "metadata": {},
     "output_type": "execute_result"
    }
   ],
   "source": [
    "entity_list[0]"
   ]
  },
  {
   "cell_type": "code",
   "execution_count": null,
   "metadata": {},
   "outputs": [],
   "source": [
    "@dataclass\n",
    "class Status:\n",
    "    clock: float\n",
    "\n",
    "    server: Server\n",
    "    arriving_queue: FIFO_queue\n",
    "    waiting_queue: FIFO_queue\n",
    "    finished_queue: FIFO_queue\n",
    "\n",
    "    B_t: float\n",
    "    Q_t: float\n",
    "\n",
    "    total_waiting_time_in_queue: float\n",
    "    area_under_Q_t: float\n",
    "    area_under_B_t: float\n",
    "\n",
    "    def check_arrival(self):\n",
    "        if self.arriving_queue.queue:\n",
    "            entity = self.arriving_queue.pop()\n",
    "            self.waiting_queue.add(entity)\n",
    "    \n",
    "    def check_service(self):\n",
    "        if self.server.entity != None and self.server.entity.remain_time == 0:\n",
    "            self.finished_queue.add(self.server.entity)\n",
    "            self.server.entity = None\n",
    "\n",
    "        if self.server.entity == None:\n",
    "            if self.waiting_queue.queue:\n",
    "                entity = self.waiting_queue.pop()\n",
    "                self.server.entity = entity\n",
    "\n",
    "    # def __repr__(self):\n",
    "    #     return f\"Status(\\"
   ]
  },
  {
   "cell_type": "code",
   "execution_count": null,
   "metadata": {},
   "outputs": [],
   "source": [
    "system_status = Status(\n",
    "    clock = 0.0,\n",
    "    server = Server(),\n",
    "    arriving_queue = FIFO_queue(entity_list),\n",
    "    waiting_queue = FIFO_queue(None),\n",
    "    finished_queue = FIFO_queue(None),\n",
    "    B_t = 0.0,\n",
    "    Q_t = 0.0,\n",
    "    total_waiting_time_in_queue = 0.0,\n",
    "    area_under_Q_t = 0.0,\n",
    "    area_under_B_t = 0.0,\n",
    ")\n",
    "\n",
    "simulation_records = []\n",
    "\n",
    "while system_status.clock < 20.00:\n",
    "    system_status.check_arrival()\n",
    "    system_status.check_service()\n",
    "    print(system_status)\n",
    "    record = SimulationRecord()\n",
    "    simulation_records.append(record)\n",
    "    \n",
    "    system_status.clock += 0.01"
   ]
  }
 ],
 "metadata": {
  "kernelspec": {
   "display_name": "Python 3",
   "language": "python",
   "name": "python3"
  },
  "language_info": {
   "codemirror_mode": {
    "name": "ipython",
    "version": 3
   },
   "file_extension": ".py",
   "mimetype": "text/x-python",
   "name": "python",
   "nbconvert_exporter": "python",
   "pygments_lexer": "ipython3",
   "version": "3.10.5"
  },
  "orig_nbformat": 4,
  "vscode": {
   "interpreter": {
    "hash": "aee8b7b246df8f9039afb4144a1f6fd8d2ca17a180786b69acc140d282b71a49"
   }
  }
 },
 "nbformat": 4,
 "nbformat_minor": 2
}
