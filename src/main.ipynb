{
 "cells": [
  {
   "cell_type": "code",
   "execution_count": 105,
   "metadata": {},
   "outputs": [],
   "source": [
    "from selenium import webdriver\n",
    "from selenium.webdriver.common.by import By\n",
    "import pandas as pd\n",
    "import time"
   ]
  },
  {
   "cell_type": "code",
   "execution_count": 106,
   "metadata": {},
   "outputs": [],
   "source": [
    "def setup_driver(url):\n",
    "    driver = webdriver.Chrome()\n",
    "    time.sleep(3)\n",
    "    driver.get(url)\n",
    "    return driver"
   ]
  },
  {
   "cell_type": "code",
   "execution_count": 107,
   "metadata": {},
   "outputs": [],
   "source": [
    "def find_element(driver):\n",
    "    drop_amount = driver.find_element(By.ID, \"buffonDropAmountBox\")\n",
    "    drop_buttom = driver.find_element(By.ID, \"buffonDropAmount\")\n",
    "    needle_scale_input = driver.find_element(By.ID, \"buffonScaleBox\")\n",
    "    start_over_button = driver.find_element(By.ID, \"buffonReset\")\n",
    "    return drop_amount, drop_buttom, needle_scale_input, start_over_button"
   ]
  },
  {
   "cell_type": "code",
   "execution_count": 108,
   "metadata": {},
   "outputs": [],
   "source": [
    "def set_params(drop_amount, needle_scale_input, drop_num, needle_scale):\n",
    "    drop_amount.clear()\n",
    "    needle_scale_input.clear()\n",
    "    drop_amount.send_keys(str(drop_num))\n",
    "    needle_scale_input.send_keys(str(needle_scale))\n",
    "    return"
   ]
  },
  {
   "cell_type": "code",
   "execution_count": 109,
   "metadata": {},
   "outputs": [],
   "source": [
    "def get_result(driver):\n",
    "    needle_scale = driver.find_element(By.ID, \"buffonNumScale\").text\n",
    "    extent = driver.find_element(By.ID, \"buffonNumExtent\").text\n",
    "    number_of_drops = driver.find_element(By.ID, \"buffonNumDrops\").text\n",
    "    number_of_hits = driver.find_element(By.ID, \"buffonNumHits\").text\n",
    "    drops_per_hits = driver.find_element(By.ID, \"buffonNumRatio\").text\n",
    "    pi = driver.find_element(By.ID, \"buffonNumPi\").text\n",
    "    return float(needle_scale), float(extent), int(number_of_drops), int(number_of_hits), float(drops_per_hits), float(pi)"
   ]
  },
  {
   "cell_type": "code",
   "execution_count": 110,
   "metadata": {},
   "outputs": [],
   "source": [
    "def drop_simulate(driver, drop_amount, drop_num, needle_scale_input, needle_scale, drop_buttom):\n",
    "    set_params(drop_amount, needle_scale_input, drop_num, needle_scale)\n",
    "    drop_buttom.submit()\n",
    "    #!\n",
    "    time.sleep(drop_num * 0.00005 if drop_num * 0.00005 > 0.5 else 0.5)\n",
    "    needle_scale_output, extent, number_of_drops, number_of_hits, drops_per_hits, pi = get_result(driver)\n",
    "    return needle_scale_output, extent, number_of_drops, number_of_hits, drops_per_hits, pi"
   ]
  },
  {
   "cell_type": "code",
   "execution_count": 111,
   "metadata": {},
   "outputs": [],
   "source": [
    "def create_df():\n",
    "    df = pd.DataFrame(columns=['needle_scale', 'extent', 'number_of_drops', 'number_of_hits', 'drops_per_hits', 'pi'])\n",
    "    return df\n",
    "\n",
    "def add_data(df, needle_scale, extent, number_of_drops, number_of_hits, drops_per_hits, pi):\n",
    "    new_row = pd.DataFrame([[needle_scale, extent, number_of_drops, number_of_hits, drops_per_hits, pi]],\n",
    "                            columns=['needle_scale', 'extent', 'number_of_drops', 'number_of_hits', 'drops_per_hits', 'pi'])\n",
    "    df = pd.concat([df, new_row], ignore_index=True)\n",
    "    return df"
   ]
  },
  {
   "cell_type": "code",
   "execution_count": 112,
   "metadata": {},
   "outputs": [
    {
     "data": {
      "text/plain": [
       "5.0"
      ]
     },
     "execution_count": 112,
     "metadata": {},
     "output_type": "execute_result"
    }
   ],
   "source": [
    "100000 * 0.00005"
   ]
  },
  {
   "cell_type": "code",
   "execution_count": 119,
   "metadata": {},
   "outputs": [
    {
     "ename": "UnexpectedAlertPresentException",
     "evalue": "Alert Text: Drop amounts above 100000 are not recommended! Are you sure you want to disable this warning and continue?\nMessage: unexpected alert open: {Alert text : Drop amounts above 100000 are not recommended! Are you sure you want to disable this warning and continue?}\n  (Session info: chrome=110.0.5481.100)\nStacktrace:\n0   chromedriver                        0x000000010a1c9fa8 chromedriver + 4886440\n1   chromedriver                        0x000000010a147643 chromedriver + 4351555\n2   chromedriver                        0x0000000109d95b27 chromedriver + 477991\n3   chromedriver                        0x0000000109e1b43e chromedriver + 1025086\n4   chromedriver                        0x0000000109e003a3 chromedriver + 914339\n5   chromedriver                        0x0000000109dca57f chromedriver + 693631\n6   chromedriver                        0x0000000109dcbb1e chromedriver + 699166\n7   chromedriver                        0x000000010a196b9e chromedriver + 4676510\n8   chromedriver                        0x000000010a19b91e chromedriver + 4696350\n9   chromedriver                        0x000000010a1a319f chromedriver + 4727199\n10  chromedriver                        0x000000010a19c81a chromedriver + 4700186\n11  chromedriver                        0x000000010a16fa62 chromedriver + 4516450\n12  chromedriver                        0x000000010a1bb8c8 chromedriver + 4827336\n13  chromedriver                        0x000000010a1bba45 chromedriver + 4827717\n14  chromedriver                        0x000000010a1d17ef chromedriver + 4917231\n15  libsystem_pthread.dylib             0x00007ff81ba19259 _pthread_start + 125\n16  libsystem_pthread.dylib             0x00007ff81ba14c7b thread_start + 15\n",
     "output_type": "error",
     "traceback": [
      "\u001b[0;31m---------------------------------------------------------------------------\u001b[0m",
      "\u001b[0;31mUnexpectedAlertPresentException\u001b[0m           Traceback (most recent call last)",
      "Cell \u001b[0;32mIn[119], line 15\u001b[0m\n\u001b[1;32m     13\u001b[0m     \u001b[39mfor\u001b[39;00m _ \u001b[39min\u001b[39;00m \u001b[39mrange\u001b[39m(simulate_times):\n\u001b[1;32m     14\u001b[0m         start_over_button\u001b[39m.\u001b[39msubmit()\n\u001b[0;32m---> 15\u001b[0m         needle_scale_output, extent, number_of_drops, number_of_hits, drops_per_hits, pi \u001b[39m=\u001b[39m drop_simulate(driver, drop_amount, drop_num, needle_scale_input, needle_scale, drop_buttom)\n\u001b[1;32m     16\u001b[0m         df \u001b[39m=\u001b[39m add_data(df, needle_scale_output, extent, number_of_drops, number_of_hits, drops_per_hits, pi)\n\u001b[1;32m     18\u001b[0m driver\u001b[39m.\u001b[39mclose()\n",
      "Cell \u001b[0;32mIn[110], line 6\u001b[0m, in \u001b[0;36mdrop_simulate\u001b[0;34m(driver, drop_amount, drop_num, needle_scale_input, needle_scale, drop_buttom)\u001b[0m\n\u001b[1;32m      4\u001b[0m \u001b[39m#!\u001b[39;00m\n\u001b[1;32m      5\u001b[0m time\u001b[39m.\u001b[39msleep(drop_num \u001b[39m*\u001b[39m \u001b[39m0.00005\u001b[39m \u001b[39mif\u001b[39;00m drop_num \u001b[39m*\u001b[39m \u001b[39m0.00005\u001b[39m \u001b[39m>\u001b[39m \u001b[39m0.5\u001b[39m \u001b[39melse\u001b[39;00m \u001b[39m0.5\u001b[39m)\n\u001b[0;32m----> 6\u001b[0m needle_scale_output, extent, number_of_drops, number_of_hits, drops_per_hits, pi \u001b[39m=\u001b[39m get_result(driver)\n\u001b[1;32m      7\u001b[0m \u001b[39mreturn\u001b[39;00m needle_scale_output, extent, number_of_drops, number_of_hits, drops_per_hits, pi\n",
      "Cell \u001b[0;32mIn[109], line 2\u001b[0m, in \u001b[0;36mget_result\u001b[0;34m(driver)\u001b[0m\n\u001b[1;32m      1\u001b[0m \u001b[39mdef\u001b[39;00m \u001b[39mget_result\u001b[39m(driver):\n\u001b[0;32m----> 2\u001b[0m     needle_scale \u001b[39m=\u001b[39m driver\u001b[39m.\u001b[39;49mfind_element(By\u001b[39m.\u001b[39;49mID, \u001b[39m\"\u001b[39;49m\u001b[39mbuffonNumScale\u001b[39;49m\u001b[39m\"\u001b[39;49m)\u001b[39m.\u001b[39mtext\n\u001b[1;32m      3\u001b[0m     extent \u001b[39m=\u001b[39m driver\u001b[39m.\u001b[39mfind_element(By\u001b[39m.\u001b[39mID, \u001b[39m\"\u001b[39m\u001b[39mbuffonNumExtent\u001b[39m\u001b[39m\"\u001b[39m)\u001b[39m.\u001b[39mtext\n\u001b[1;32m      4\u001b[0m     number_of_drops \u001b[39m=\u001b[39m driver\u001b[39m.\u001b[39mfind_element(By\u001b[39m.\u001b[39mID, \u001b[39m\"\u001b[39m\u001b[39mbuffonNumDrops\u001b[39m\u001b[39m\"\u001b[39m)\u001b[39m.\u001b[39mtext\n",
      "File \u001b[0;32m~/.local/share/virtualenvs/simulation-hw1-2iyDpK3b/lib/python3.10/site-packages/selenium/webdriver/remote/webdriver.py:830\u001b[0m, in \u001b[0;36mWebDriver.find_element\u001b[0;34m(self, by, value)\u001b[0m\n\u001b[1;32m    827\u001b[0m     by \u001b[39m=\u001b[39m By\u001b[39m.\u001b[39mCSS_SELECTOR\n\u001b[1;32m    828\u001b[0m     value \u001b[39m=\u001b[39m \u001b[39mf\u001b[39m\u001b[39m'\u001b[39m\u001b[39m[name=\u001b[39m\u001b[39m\"\u001b[39m\u001b[39m{\u001b[39;00mvalue\u001b[39m}\u001b[39;00m\u001b[39m\"\u001b[39m\u001b[39m]\u001b[39m\u001b[39m'\u001b[39m\n\u001b[0;32m--> 830\u001b[0m \u001b[39mreturn\u001b[39;00m \u001b[39mself\u001b[39;49m\u001b[39m.\u001b[39;49mexecute(Command\u001b[39m.\u001b[39;49mFIND_ELEMENT, {\u001b[39m\"\u001b[39;49m\u001b[39musing\u001b[39;49m\u001b[39m\"\u001b[39;49m: by, \u001b[39m\"\u001b[39;49m\u001b[39mvalue\u001b[39;49m\u001b[39m\"\u001b[39;49m: value})[\u001b[39m\"\u001b[39m\u001b[39mvalue\u001b[39m\u001b[39m\"\u001b[39m]\n",
      "File \u001b[0;32m~/.local/share/virtualenvs/simulation-hw1-2iyDpK3b/lib/python3.10/site-packages/selenium/webdriver/remote/webdriver.py:440\u001b[0m, in \u001b[0;36mWebDriver.execute\u001b[0;34m(self, driver_command, params)\u001b[0m\n\u001b[1;32m    438\u001b[0m response \u001b[39m=\u001b[39m \u001b[39mself\u001b[39m\u001b[39m.\u001b[39mcommand_executor\u001b[39m.\u001b[39mexecute(driver_command, params)\n\u001b[1;32m    439\u001b[0m \u001b[39mif\u001b[39;00m response:\n\u001b[0;32m--> 440\u001b[0m     \u001b[39mself\u001b[39;49m\u001b[39m.\u001b[39;49merror_handler\u001b[39m.\u001b[39;49mcheck_response(response)\n\u001b[1;32m    441\u001b[0m     response[\u001b[39m\"\u001b[39m\u001b[39mvalue\u001b[39m\u001b[39m\"\u001b[39m] \u001b[39m=\u001b[39m \u001b[39mself\u001b[39m\u001b[39m.\u001b[39m_unwrap_value(response\u001b[39m.\u001b[39mget(\u001b[39m\"\u001b[39m\u001b[39mvalue\u001b[39m\u001b[39m\"\u001b[39m, \u001b[39mNone\u001b[39;00m))\n\u001b[1;32m    442\u001b[0m     \u001b[39mreturn\u001b[39;00m response\n",
      "File \u001b[0;32m~/.local/share/virtualenvs/simulation-hw1-2iyDpK3b/lib/python3.10/site-packages/selenium/webdriver/remote/errorhandler.py:244\u001b[0m, in \u001b[0;36mErrorHandler.check_response\u001b[0;34m(self, response)\u001b[0m\n\u001b[1;32m    242\u001b[0m     \u001b[39melif\u001b[39;00m \u001b[39m\"\u001b[39m\u001b[39malert\u001b[39m\u001b[39m\"\u001b[39m \u001b[39min\u001b[39;00m value:\n\u001b[1;32m    243\u001b[0m         alert_text \u001b[39m=\u001b[39m value[\u001b[39m\"\u001b[39m\u001b[39malert\u001b[39m\u001b[39m\"\u001b[39m]\u001b[39m.\u001b[39mget(\u001b[39m\"\u001b[39m\u001b[39mtext\u001b[39m\u001b[39m\"\u001b[39m)\n\u001b[0;32m--> 244\u001b[0m     \u001b[39mraise\u001b[39;00m exception_class(message, screen, stacktrace, alert_text)  \u001b[39m# type: ignore[call-arg]  # mypy is not smart enough here\u001b[39;00m\n\u001b[1;32m    245\u001b[0m \u001b[39mraise\u001b[39;00m exception_class(message, screen, stacktrace)\n",
      "\u001b[0;31mUnexpectedAlertPresentException\u001b[0m: Alert Text: Drop amounts above 100000 are not recommended! Are you sure you want to disable this warning and continue?\nMessage: unexpected alert open: {Alert text : Drop amounts above 100000 are not recommended! Are you sure you want to disable this warning and continue?}\n  (Session info: chrome=110.0.5481.100)\nStacktrace:\n0   chromedriver                        0x000000010a1c9fa8 chromedriver + 4886440\n1   chromedriver                        0x000000010a147643 chromedriver + 4351555\n2   chromedriver                        0x0000000109d95b27 chromedriver + 477991\n3   chromedriver                        0x0000000109e1b43e chromedriver + 1025086\n4   chromedriver                        0x0000000109e003a3 chromedriver + 914339\n5   chromedriver                        0x0000000109dca57f chromedriver + 693631\n6   chromedriver                        0x0000000109dcbb1e chromedriver + 699166\n7   chromedriver                        0x000000010a196b9e chromedriver + 4676510\n8   chromedriver                        0x000000010a19b91e chromedriver + 4696350\n9   chromedriver                        0x000000010a1a319f chromedriver + 4727199\n10  chromedriver                        0x000000010a19c81a chromedriver + 4700186\n11  chromedriver                        0x000000010a16fa62 chromedriver + 4516450\n12  chromedriver                        0x000000010a1bb8c8 chromedriver + 4827336\n13  chromedriver                        0x000000010a1bba45 chromedriver + 4827717\n14  chromedriver                        0x000000010a1d17ef chromedriver + 4917231\n15  libsystem_pthread.dylib             0x00007ff81ba19259 _pthread_start + 125\n16  libsystem_pthread.dylib             0x00007ff81ba14c7b thread_start + 15\n"
     ]
    }
   ],
   "source": [
    "# def main():\n",
    "url = \"https://mste.illinois.edu/activity/buffon/\"\n",
    "driver = setup_driver(url)\n",
    "drop_amount, drop_buttom, needle_scale_input, start_over_button = find_element(driver)\n",
    "\n",
    "df = create_df()\n",
    "\n",
    "drop_amount_list = [1, 10, 100, 1000, 10000, 100000]#, 1000000]\n",
    "needle_scale_list = [1]\n",
    "simulate_times = 100\n",
    "\n",
    "for drop_num in drop_amount_list:\n",
    "    for needle_scale in needle_scale_list:\n",
    "        for _ in range(simulate_times):\n",
    "            start_over_button.submit()\n",
    "            needle_scale_output, extent, number_of_drops, number_of_hits, drops_per_hits, pi = drop_simulate(driver, drop_amount, drop_num, needle_scale_input, needle_scale, drop_buttom)\n",
    "            df = add_data(df, needle_scale_output, extent, number_of_drops, number_of_hits, drops_per_hits, pi)\n",
    "\n",
    "driver.close()\n",
    "    \n",
    "    # return df\n",
    "df"
   ]
  },
  {
   "cell_type": "code",
   "execution_count": 120,
   "metadata": {},
   "outputs": [
    {
     "data": {
      "text/html": [
       "<div>\n",
       "<style scoped>\n",
       "    .dataframe tbody tr th:only-of-type {\n",
       "        vertical-align: middle;\n",
       "    }\n",
       "\n",
       "    .dataframe tbody tr th {\n",
       "        vertical-align: top;\n",
       "    }\n",
       "\n",
       "    .dataframe thead th {\n",
       "        text-align: right;\n",
       "    }\n",
       "</style>\n",
       "<table border=\"1\" class=\"dataframe\">\n",
       "  <thead>\n",
       "    <tr style=\"text-align: right;\">\n",
       "      <th></th>\n",
       "      <th>needle_scale</th>\n",
       "      <th>extent</th>\n",
       "      <th>number_of_drops</th>\n",
       "      <th>number_of_hits</th>\n",
       "      <th>drops_per_hits</th>\n",
       "      <th>pi</th>\n",
       "    </tr>\n",
       "  </thead>\n",
       "  <tbody>\n",
       "    <tr>\n",
       "      <th>0</th>\n",
       "      <td>1.0</td>\n",
       "      <td>1.0</td>\n",
       "      <td>1</td>\n",
       "      <td>1</td>\n",
       "      <td>1.000000</td>\n",
       "      <td>2.000000</td>\n",
       "    </tr>\n",
       "    <tr>\n",
       "      <th>1</th>\n",
       "      <td>1.0</td>\n",
       "      <td>1.0</td>\n",
       "      <td>1</td>\n",
       "      <td>1</td>\n",
       "      <td>1.000000</td>\n",
       "      <td>2.000000</td>\n",
       "    </tr>\n",
       "    <tr>\n",
       "      <th>2</th>\n",
       "      <td>1.0</td>\n",
       "      <td>1.0</td>\n",
       "      <td>1</td>\n",
       "      <td>0</td>\n",
       "      <td>0.000000</td>\n",
       "      <td>0.000000</td>\n",
       "    </tr>\n",
       "    <tr>\n",
       "      <th>3</th>\n",
       "      <td>1.0</td>\n",
       "      <td>1.0</td>\n",
       "      <td>1</td>\n",
       "      <td>1</td>\n",
       "      <td>1.000000</td>\n",
       "      <td>2.000000</td>\n",
       "    </tr>\n",
       "    <tr>\n",
       "      <th>4</th>\n",
       "      <td>1.0</td>\n",
       "      <td>1.0</td>\n",
       "      <td>1</td>\n",
       "      <td>1</td>\n",
       "      <td>1.000000</td>\n",
       "      <td>2.000000</td>\n",
       "    </tr>\n",
       "    <tr>\n",
       "      <th>...</th>\n",
       "      <td>...</td>\n",
       "      <td>...</td>\n",
       "      <td>...</td>\n",
       "      <td>...</td>\n",
       "      <td>...</td>\n",
       "      <td>...</td>\n",
       "    </tr>\n",
       "    <tr>\n",
       "      <th>595</th>\n",
       "      <td>1.0</td>\n",
       "      <td>1.0</td>\n",
       "      <td>100000</td>\n",
       "      <td>63687</td>\n",
       "      <td>1.570179</td>\n",
       "      <td>3.140358</td>\n",
       "    </tr>\n",
       "    <tr>\n",
       "      <th>596</th>\n",
       "      <td>1.0</td>\n",
       "      <td>1.0</td>\n",
       "      <td>100000</td>\n",
       "      <td>63797</td>\n",
       "      <td>1.567472</td>\n",
       "      <td>3.134944</td>\n",
       "    </tr>\n",
       "    <tr>\n",
       "      <th>597</th>\n",
       "      <td>1.0</td>\n",
       "      <td>1.0</td>\n",
       "      <td>100000</td>\n",
       "      <td>63793</td>\n",
       "      <td>1.567570</td>\n",
       "      <td>3.135140</td>\n",
       "    </tr>\n",
       "    <tr>\n",
       "      <th>598</th>\n",
       "      <td>1.0</td>\n",
       "      <td>1.0</td>\n",
       "      <td>100000</td>\n",
       "      <td>63557</td>\n",
       "      <td>1.573391</td>\n",
       "      <td>3.146782</td>\n",
       "    </tr>\n",
       "    <tr>\n",
       "      <th>599</th>\n",
       "      <td>1.0</td>\n",
       "      <td>1.0</td>\n",
       "      <td>100000</td>\n",
       "      <td>63759</td>\n",
       "      <td>1.568406</td>\n",
       "      <td>3.136812</td>\n",
       "    </tr>\n",
       "  </tbody>\n",
       "</table>\n",
       "<p>600 rows × 6 columns</p>\n",
       "</div>"
      ],
      "text/plain": [
       "     needle_scale  extent number_of_drops number_of_hits  drops_per_hits  \\\n",
       "0             1.0     1.0               1              1        1.000000   \n",
       "1             1.0     1.0               1              1        1.000000   \n",
       "2             1.0     1.0               1              0        0.000000   \n",
       "3             1.0     1.0               1              1        1.000000   \n",
       "4             1.0     1.0               1              1        1.000000   \n",
       "..            ...     ...             ...            ...             ...   \n",
       "595           1.0     1.0          100000          63687        1.570179   \n",
       "596           1.0     1.0          100000          63797        1.567472   \n",
       "597           1.0     1.0          100000          63793        1.567570   \n",
       "598           1.0     1.0          100000          63557        1.573391   \n",
       "599           1.0     1.0          100000          63759        1.568406   \n",
       "\n",
       "           pi  \n",
       "0    2.000000  \n",
       "1    2.000000  \n",
       "2    0.000000  \n",
       "3    2.000000  \n",
       "4    2.000000  \n",
       "..        ...  \n",
       "595  3.140358  \n",
       "596  3.134944  \n",
       "597  3.135140  \n",
       "598  3.146782  \n",
       "599  3.136812  \n",
       "\n",
       "[600 rows x 6 columns]"
      ]
     },
     "execution_count": 120,
     "metadata": {},
     "output_type": "execute_result"
    }
   ],
   "source": [
    "df"
   ]
  },
  {
   "cell_type": "code",
   "execution_count": 121,
   "metadata": {},
   "outputs": [
    {
     "data": {
      "text/plain": [
       "1         100\n",
       "10        100\n",
       "100       100\n",
       "1000      100\n",
       "10000     100\n",
       "100000    100\n",
       "Name: number_of_drops, dtype: int64"
      ]
     },
     "execution_count": 121,
     "metadata": {},
     "output_type": "execute_result"
    }
   ],
   "source": [
    "df['number_of_drops'].value_counts()"
   ]
  },
  {
   "cell_type": "code",
   "execution_count": 122,
   "metadata": {},
   "outputs": [],
   "source": [
    "df.to_csv('buffon_needle_data.csv', index=False)"
   ]
  },
  {
   "cell_type": "code",
   "execution_count": 123,
   "metadata": {},
   "outputs": [],
   "source": [
    "import matplotlib.pyplot as plt"
   ]
  },
  {
   "cell_type": "code",
   "execution_count": 124,
   "metadata": {},
   "outputs": [
    {
     "data": {
      "text/plain": [
       "array([[<Axes: title={'center': '1'}>, <Axes: title={'center': '10'}>],\n",
       "       [<Axes: title={'center': '100'}>,\n",
       "        <Axes: title={'center': '1000'}>],\n",
       "       [<Axes: title={'center': '10000'}>,\n",
       "        <Axes: title={'center': '100000'}>]], dtype=object)"
      ]
     },
     "execution_count": 124,
     "metadata": {},
     "output_type": "execute_result"
    },
    {
     "data": {
      "image/png": "[encoded data removed]",
      "text/plain": [
       "<Figure size 640x480 with 6 Axes>"
      ]
     },
     "metadata": {},
     "output_type": "display_data"
    }
   ],
   "source": [
    "df['pi'].hist(by=df['number_of_drops'], bins=30)"
   ]
  },
  {
   "cell_type": "code",
   "execution_count": 125,
   "metadata": {},
   "outputs": [
    {
     "data": {
      "text/plain": [
       "<Axes: xlabel='number_of_drops', ylabel='pi'>"
      ]
     },
     "execution_count": 125,
     "metadata": {},
     "output_type": "execute_result"
    },
    {
     "data": {
      "image/png": "[encoded data removed]",
      "text/plain": [
       "<Figure size 640x480 with 1 Axes>"
      ]
     },
     "metadata": {},
     "output_type": "display_data"
    }
   ],
   "source": [
    "df.plot.scatter(x=\"number_of_drops\", y=\"pi\", color=\"DarkGreen\", label=\"Group 1\")"
   ]
  },
  {
   "cell_type": "code",
   "execution_count": 126,
   "metadata": {},
   "outputs": [
    {
     "data": {
      "text/plain": [
       "pi    Axes(0.125,0.11;0.775x0.77)\n",
       "dtype: object"
      ]
     },
     "execution_count": 126,
     "metadata": {},
     "output_type": "execute_result"
    },
    {
     "data": {
      "image/png": "[encoded data removed]",
      "text/plain": [
       "<Figure size 640x480 with 1 Axes>"
      ]
     },
     "metadata": {},
     "output_type": "display_data"
    }
   ],
   "source": [
    "df.plot.box(by=\"number_of_drops\", column=[\"pi\"], grid=False)"
   ]
  },
  {
   "cell_type": "code",
   "execution_count": 118,
   "metadata": {},
   "outputs": [],
   "source": [
    "# drop1_buttom = driver.find_element(By.ID, \"buffonDrop1\")\n",
    "# drop1_buttom.click()"
   ]
  }
 ],
 "metadata": {
  "kernelspec": {
   "display_name": "simulation-hw1-2iyDpK3b",
   "language": "python",
   "name": "python3"
  },
  "language_info": {
   "codemirror_mode": {
    "name": "ipython",
    "version": 3
   },
   "file_extension": ".py",
   "mimetype": "text/x-python",
   "name": "python",
   "nbconvert_exporter": "python",
   "pygments_lexer": "ipython3",
   "version": "3.10.5"
  },
  "orig_nbformat": 4,
  "vscode": {
   "interpreter": {
    "hash": "f86dc5fcbe5c6c0d6f4828ca596e15a6a27bedd69895be23257bf7d0261533c6"
   }
  }
 },
 "nbformat": 4,
 "nbformat_minor": 2
}
